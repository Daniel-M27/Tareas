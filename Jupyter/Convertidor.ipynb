{
 "cells": [
  {
   "cell_type": "markdown",
   "metadata": {},
   "source": [
    "# **Convertidor de bases numéricas**\n",
    "\n",
    "Daniel López  \n",
    "Computación 8093\n",
    "\n",
    "---\n",
    "---"
   ]
  },
  {
   "cell_type": "markdown",
   "metadata": {},
   "source": [
    "### **Base-n a Base-10.**\n",
    "\n",
    "La primera mitad del problema consiste en tomar un entero de la forma $(r_k \\ldots r_1r_0)_n$ y convertirlo a una expresión decimal. Para ello primero expandimos el polinomio:\n",
    "\n",
    "$$(r_k \\ldots r_1r_0)_n = r_k \\cdot n^k \\ldots r_1 \\cdot n + r_0 \\cdot n^0 .$$\n",
    "\n",
    "Aquí es donde nos encontramos con el primer problema, pues en bases mayores a $10$ se necesitan símbolos adicionales a los números indoarábigos para denotar los coeficientes. En matemáticas suele usarse el número decimal entre paréntesis; algo como $((11)(12)8)_{13}$, pero es complicado traducir esta notación a código.\n",
    "\n",
    "Otra solución común es asignarle un valor numérico a cada letra del alfabeto, por ejemplo $a=10$, $b=11$, etc. En mi caso simplemente opté por trabajar con bases menores a 10.\n",
    "\n",
    "---\n",
    "\n",
    "#### *Información necesaria del polinomio*"
   ]
  },
  {
   "cell_type": "code",
   "execution_count": null,
   "metadata": {},
   "outputs": [],
   "source": [
    "base = int(input('Base: '))\n",
    "\n",
    "if base > 10:\n",
    "    print(\"Base no soportada.\")\n",
    "    exit()\n",
    "\n",
    "bin = list(input('Número: '))\n",
    "order = int(len(bin)) - 1\n",
    "filter = all(int(x) < base for x in bin)"
   ]
  },
  {
   "cell_type": "markdown",
   "metadata": {},
   "source": [
    "Lo primero que se pide es la base en la que está escrito el número; si es mayor a 10 el proceso se detiene.\n",
    "Posteriormente se pide el número a convertir, que se almecena dígito a dígito en una lista llamada `bin`. \n",
    "\n",
    "Además, se almacena la longitud del número (su cantidad de dígitos - 1), y un valor *booleano* en la variable `filter`, el cual verifica que todos los coeficientes sean estrictamente menores a la base, pues de lo contrario, el número no tendría sentido en la base especificada anteriormente."
   ]
  },
  {
   "cell_type": "code",
   "execution_count": null,
   "metadata": {},
   "outputs": [],
   "source": [
    "num = []\n",
    "ind = []\n",
    "pow = []\n",
    "times = []"
   ]
  },
  {
   "cell_type": "markdown",
   "metadata": {},
   "source": [
    "El método que implementé se basa en las listas de Python, aquí simplemente se les da nombres convenientes.\n",
    "\n",
    "---\n",
    "\n",
    "#### *El algoritmo*"
   ]
  },
  {
   "cell_type": "code",
   "execution_count": null,
   "metadata": {},
   "outputs": [],
   "source": [
    "if filter == True:\n",
    "    for i, x in enumerate(bin):\n",
    "        if x != '0':                                # Almacena la posición de los dígitos que no son 0.\n",
    "            ind.append(i)"
   ]
  },
  {
   "cell_type": "markdown",
   "metadata": {},
   "source": [
    "Lo primero que se hace es almacenar el **índice** de los dígitos (su posición dentro de `bin`) que no son 0 en la lista `ind`. Excluir los ceros no es necesario (de hecho es más sencillo no hacerlo), pero considero que vale la pena para agilizar los cálculos, en especial si se tienen bases pequeñas y/o números grandes. \n",
    "\n",
    "La posición del dígito es importante, pues nos dice  qué potencia de la base debe multiplicar. Nótese también que si el número tiene $n$ dígitos, los índices solo llegan hasta $k = n-1$, porque empiezan desde el 0.\n",
    "Además, se almacenan en orden inverso; es decir, el coeficiente $r_k$ tiene la posición 0 dentro de la lista, pues es el que aparece primero. De la misma forma, el $r_{k-1}$ está en la posición 1 y, en general, el $r_i$ está en la posición $n-1-i = k-i$."
   ]
  },
  {
   "cell_type": "code",
   "execution_count": null,
   "metadata": {},
   "outputs": [],
   "source": [
    "for x in ind:\n",
    "    pow.append(base**(order - x))               # Almacena las potencias cuyos coeficientes no son 0."
   ]
  },
  {
   "cell_type": "markdown",
   "metadata": {},
   "source": [
    "Una vez excluidos los ceros, necesitamos saber qué potencias de la base multiplicará cada dígito. Para ello simplemente traducimos a código lo que se explicó arriba; la k-ésima potencia de la base está en la posición $n-1-i$. El valor $n-1$ se almacenó previamente en la variable `order`. \n",
    "\n",
    "Además, usamos solo los índices de los númeron que no son cero. Por ejemplo, en el caso del número binario $1001101$ la lista almacenaría los valores $[2^6, 2^3, 2^2, 2^0]$."
   ]
  },
  {
   "cell_type": "code",
   "execution_count": null,
   "metadata": {},
   "outputs": [],
   "source": [
    "for x in bin:\n",
    "    if x != '0':                                # Almacena los dígitos que no son 0.\n",
    "        num.append(int(x))"
   ]
  },
  {
   "cell_type": "markdown",
   "metadata": {},
   "source": [
    "Ahora, se almacenan los coeficientes no nulos en la lista `num`, esta vez como números operables, pues en `bin` eran strings."
   ]
  },
  {
   "cell_type": "code",
   "execution_count": null,
   "metadata": {},
   "outputs": [],
   "source": [
    "for j in range(len(num)):                       # Multiplica todas las potencias con sus\n",
    "    times.append(num[j] * pow[j])               # respectivos coeficientes.\n",
    "    \n",
    "print('\\n' + str(sum(times)) + '\\n')"
   ]
  },
  {
   "cell_type": "markdown",
   "metadata": {},
   "source": [
    "Por la forma en la que se escribió el algoritmo, las listas `num` y `pow` ahora contienen respectivamente los coeficientes y las potencias de la base, **en el mismo orden**. Además, dichas listas tienen la misma longitud, pues en ambas se excluyeron los ceros. \n",
    "\n",
    "Entonces basta con multiplicar cada potencia con su coeficiente (cuyos valores se almacenan en `times`) y luego sumar todos los resultados. El valor final es el número en notación decimal.\n",
    "\n",
    "---\n",
    "---"
   ]
  },
  {
   "cell_type": "markdown",
   "metadata": {},
   "source": [
    "### **Base-10 a Base-n**\n",
    "\n",
    "La segunda parte del problema es la operación inversa, tomar un número decimal y convertirlo a cualquier otra base de nuestra elección. Para esto, podemos aplicar iteradamente el algoritmo de la división sobre los cocientes del número, dividiendo entre la base y escribiendo el resultado en la forma $n = qb + r$, donde $b$ es la *base*, $q$ el *cociente* y $r$ el *residuo*.\n",
    "\n",
    "Por ejemplo, si tenemos $273$ y queremos convertirlo a Base-5, escribimos\n",
    "\n",
    "\\begin{align*}\n",
    "\t273 &= 54\\cdot 5 + 3 \\\\\n",
    "\t&= (10\\cdot 5 + 4)\\cdot 5 + 3 \\cdot 5^0 \\\\\n",
    "\t&= 10\\cdot 5^2 + 4\\cdot 5 + 3 \\cdot 5^0 \\\\\n",
    "\t&= 2\\cdot 5^3 + 0\\cdot 5^2 + 4\\cdot 5 + 3 \\cdot 5^0. \n",
    "\\end{align*}\n",
    "\n",
    "Así, $273 = (2043)_5$. \n",
    "\n",
    "Esto puede traducirse fácilmente a código usando un **while**, pues el proceso anterior termina cuando el último cociente $r_k$ sea estrictamente menor a la base.\n",
    "\n",
    "---\n",
    "\n",
    "#### *Trabajo preliminar.*"
   ]
  },
  {
   "cell_type": "code",
   "execution_count": null,
   "metadata": {},
   "outputs": [],
   "source": [
    "def reverse(list):                                   # Invierte el orden de elementos en una lista.\n",
    "    return [x for x in reversed(list)]\n",
    "\n",
    "def cat(list):                                       # Concatena los elementos de una lista en un string.\n",
    "    blank = ''\n",
    "    return blank.join(list)"
   ]
  },
  {
   "cell_type": "markdown",
   "metadata": {},
   "source": [
    "Lo primero que se hace es definir las funciones que se usarán en el algoritmo. En este caso solo se necesitan algunos métodos básicos para manipular listas."
   ]
  },
  {
   "cell_type": "code",
   "execution_count": null,
   "metadata": {},
   "outputs": [],
   "source": [
    "num = int(input('Número: '))\n",
    "base = int(input('Base: '))\n",
    "\n",
    "if base > 10:\n",
    "    print(\"Base no soportada.\")\n",
    "    exit()\n",
    "    \n",
    "mod = []"
   ]
  },
  {
   "cell_type": "markdown",
   "metadata": {},
   "source": [
    "Posteriormente se obtiene la información necesaria del usuario, o sea, el número a convertir y la base en la que se quiere el resultado. También se declara la lista que se usará en el algoritmo.\n",
    "\n",
    "De nuevo, si se ingresa una base mayor a 10, el proceso se aborta.\n",
    "\n",
    "---\n",
    "\n",
    "#### *El algoritmo.*\n",
    "\n",
    "Este es mucho más sencillo que el anterior, ya que puede resumirse en una sola instrucción:"
   ]
  },
  {
   "cell_type": "code",
   "execution_count": null,
   "metadata": {},
   "outputs": [],
   "source": [
    "while base <= num:\n",
    "    mod.append(str(num % base))\n",
    "    num = num // base                            # Equivale a floor(num / base).\n",
    "mod.append(str(num))"
   ]
  },
  {
   "cell_type": "markdown",
   "metadata": {},
   "source": [
    "Es básicamente la traducción a código de lo que se dijo al inicio; la información que nos interesa son los residuos, pues estos son precisamente la representación del número en la base deseada. En python pueden obtenerse directamente con el módulo `%`.\n",
    "\n",
    "Después de almacenar el residuo, actualizamos el número al cociente que resulta de dividir entre la base, pues el algoritmo de la división se aplica iteradamente sobre ellos. Este paso en particular puede generar problemas con números grandes si se hace la división normal con flotantes `/`, pues Python redondea el resultado (me pasó).\n",
    "\n",
    "Como lo que queremos en este caso es el cociente entero y no la división exacta, podemos usar simplemente `//`, que indica división de enteros. Este método es equivalente a $\\left\\lfloor \\frac{a}{b} \\right\\rfloor$.\n",
    "\n",
    "Una vez que el **while** termina, el último cociente queda almacenado en `num`, así que también debemos agregarlo a la lista `mod`."
   ]
  },
  {
   "cell_type": "code",
   "execution_count": null,
   "metadata": {},
   "outputs": [],
   "source": [
    "convert = reverse(mod)\n",
    "print('\\n' + cat(convert) + '\\n')"
   ]
  },
  {
   "cell_type": "markdown",
   "metadata": {},
   "source": [
    "Por último, revertimos el orden de `mod` (pues los residuos se almacenaron al revés) e imprimimos el número resultante a la pantalla, que es la representación en la base deseada."
   ]
  }
 ],
 "metadata": {
  "kernelspec": {
   "display_name": "Python 3",
   "language": "python",
   "name": "python3"
  },
  "language_info": {
   "codemirror_mode": {
    "name": "ipython",
    "version": 3
   },
   "file_extension": ".py",
   "mimetype": "text/x-python",
   "name": "python",
   "nbconvert_exporter": "python",
   "pygments_lexer": "ipython3",
   "version": "3.8.5"
  }
 },
 "nbformat": 4,
 "nbformat_minor": 4
}
