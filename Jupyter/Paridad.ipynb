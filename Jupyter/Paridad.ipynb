{
 "cells": [
  {
   "cell_type": "markdown",
   "metadata": {},
   "source": [
    "# **Detector de paridad**\n",
    "\n",
    "Daniel López <br>\n",
    "Computación 8093\n",
    "\n",
    "---\n",
    "---\n",
    "\n",
    "### *La lista*\n",
    "\n",
    "El problema es el siguiente: Dada una cantidad finita de enteros positivos, determinar cuántos de ellos son pares y cuántos impares.\n",
    "\n",
    "Lo primero que debemos hacer es generar una lista con la cantidad de enteros que especifique el usuario, para luego poder aplicarle el algoritmo. Esto lo hacemos ayudándonos de la biblioteca **random**; en particular importando la función `randint()`."
   ]
  },
  {
   "cell_type": "code",
   "execution_count": 1,
   "metadata": {},
   "outputs": [],
   "source": [
    "from random import randint"
   ]
  },
  {
   "cell_type": "markdown",
   "metadata": {},
   "source": [
    "Para crear la lista debe especificarse algún intervalo en el que se escogerán los números, por ejemplo, $n \\in [1, 100]$. En este caso escogí $[1,1000]$ como rango default, pero el usuario puede especificar el de su preferencia."
   ]
  },
  {
   "cell_type": "code",
   "execution_count": null,
   "metadata": {},
   "outputs": [],
   "source": [
    "print(\"\"\"\n",
    "Dada una lista finita de enteros positivos, este programa permite determinar cuántos de ellos son pares y cuántos \n",
    "impares.\n",
    "Puede especificar el límite superior del rango en el que están los números; el intervalo default es [1, 1000], \n",
    "para usarlo presione ENTER.\n",
    "\"\"\")\n",
    "\n",
    "ran = (input('Límite superior (opcional): '))"
   ]
  },
  {
   "cell_type": "markdown",
   "metadata": {},
   "source": [
    "Posteriormente se declaran las variables que se usarán en el proceso, y se pide el número de enteros que el usuario desea generar."
   ]
  },
  {
   "cell_type": "code",
   "execution_count": null,
   "metadata": {},
   "outputs": [],
   "source": [
    "N = []\n",
    "even = []\n",
    "odd = []\n",
    "\n",
    "nums = int(input('Cantidad de números a generar: '))"
   ]
  },
  {
   "cell_type": "markdown",
   "metadata": {},
   "source": [
    "Ahora generamos los enteros:"
   ]
  },
  {
   "cell_type": "code",
   "execution_count": null,
   "metadata": {},
   "outputs": [],
   "source": [
    "for i in range(1, nums + 1):\n",
    "    if ran == '':\n",
    "        N.append(randint(1, 1000))\n",
    "    else:\n",
    "        N.append(randint(1, int(ran)))"
   ]
  },
  {
   "cell_type": "markdown",
   "metadata": {},
   "source": [
    "La lista dependerá de lo que el usuario haya especificado al inicio, si no especificó un rango, se toman números entre el 1 y el 1000.\n",
    "\n",
    "---\n",
    "\n",
    "### *El algoritmo*\n",
    "\n",
    "Una vez tenemos los enteros, lo que sigue es determinar la cantidad de pares e impares. Para ello solo hace falta recordar las definiciones:\n",
    "Un entero $n$ es **par** si $\\exists k \\in \\mathbb{Z}$ tal que $n = 2k$. <br>\n",
    "Es **impar** si $\\exists k \\in \\mathbb{Z}$ tal que $n = 2k + 1$.\n",
    "\n",
    "Entonces es sencillo distinguirlos, los pares son divisibles entre $2$, mientras que los impares no. De hecho, se puede observar directamente de la definición que si $n$ es impar, entonces su residuo al dividir entre $2$ es precisamente $1$.\n",
    "\n",
    "Traduciendo esto a código:"
   ]
  },
  {
   "cell_type": "code",
   "execution_count": null,
   "metadata": {},
   "outputs": [],
   "source": [
    "for i in N:\n",
    "    if i % 2 == 0:\n",
    "        even.append(i)\n",
    "    elif i % 2 == 1:\n",
    "        odd.append(i)"
   ]
  },
  {
   "cell_type": "markdown",
   "metadata": {},
   "source": [
    "Una vez hemos separado a los pares de los impares, solo resta decir cuántos hay, lo que podemos hacer usando la función `len()`:"
   ]
  },
  {
   "cell_type": "code",
   "execution_count": null,
   "metadata": {},
   "outputs": [],
   "source": [
    "print(*N, sep = ', ')\n",
    "print(f\"\"\"\n",
    "\\rPares: {len(even)}\n",
    "\\rImpares: {len(odd)}\n",
    "\"\"\")"
   ]
  },
  {
   "cell_type": "markdown",
   "metadata": {},
   "source": [
    "La primera línea imprime los números que fueron generados al inicio, almacenados en la lista `N`. Luego se imprime el número de pares e impares."
   ]
  }
 ],
 "metadata": {
  "kernelspec": {
   "display_name": "Python 3",
   "language": "python",
   "name": "python3"
  },
  "language_info": {
   "codemirror_mode": {
    "name": "ipython",
    "version": 3
   },
   "file_extension": ".py",
   "mimetype": "text/x-python",
   "name": "python",
   "nbconvert_exporter": "python",
   "pygments_lexer": "ipython3",
   "version": "3.8.5"
  }
 },
 "nbformat": 4,
 "nbformat_minor": 4
}
