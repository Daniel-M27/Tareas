{
 "cells": [
  {
   "cell_type": "code",
   "execution_count": 1,
   "metadata": {},
   "outputs": [
    {
     "name": "stdout",
     "output_type": "stream",
     "text": [
      "zarathustra\n"
     ]
    }
   ],
   "source": [
    "whoami"
   ]
  },
  {
   "cell_type": "code",
   "execution_count": 2,
   "metadata": {},
   "outputs": [
    {
     "name": "stdout",
     "output_type": "stream",
     "text": [
      "sáb 17 oct 2020 12:35:06 MDT\n"
     ]
    }
   ],
   "source": [
    "date"
   ]
  },
  {
   "cell_type": "markdown",
   "metadata": {},
   "source": [
    "UTC es el Tiempo Universal Coordinado, la zona horaria que corresponde al meridiano 0 y en la que se basan el resto de zonas horarias. CDT es Central Time Zone, la franja horaria de la Ciudad de México. En mi caso la zona horaria es MDT (Mountain Time Zome) porque estoy en Sinaloa :p"
   ]
  },
  {
   "cell_type": "code",
   "execution_count": 3,
   "metadata": {},
   "outputs": [
    {
     "name": "stdout",
     "output_type": "stream",
     "text": [
      "    Febrero 1911      \n",
      "do lu ma mi ju vi sá  \n",
      "          1  2  3  4  \n",
      " 5  6  7  8  9 10 11  \n",
      "12 13 14 15 16 17 18  \n",
      "19 20 21 22 23 24 25  \n",
      "26 27 28              \n",
      "                      \n"
     ]
    }
   ],
   "source": [
    "cal 2 1911"
   ]
  },
  {
   "cell_type": "markdown",
   "metadata": {},
   "source": [
    "El 25 de febrero fue sábado."
   ]
  },
  {
   "cell_type": "code",
   "execution_count": 4,
   "metadata": {},
   "outputs": [
    {
     "name": "stdout",
     "output_type": "stream",
     "text": [
      "     Julio 1913       \n",
      "do lu ma mi ju vi sá  \n",
      "       1  2  3  4  5  \n",
      " 6  7  8  9 10 11 12  \n",
      "13 14 15 16 17 18 19  \n",
      "20 21 22 23 24 25 26  \n",
      "27 28 29 30 31        \n",
      "                      \n"
     ]
    }
   ],
   "source": [
    "cal 7 1913"
   ]
  },
  {
   "cell_type": "code",
   "execution_count": 5,
   "metadata": {},
   "outputs": [
    {
     "name": "stdout",
     "output_type": "stream",
     "text": [
      "                         1913\n",
      "           Enero                       Febrero            \n",
      " do  lu  ma  mi  ju  vi  sá   do  lu  ma  mi  ju  vi  sá  \n",
      "              1   2   3   4                           32  \n",
      "  5   6   7   8   9  10  11   33  34  35  36  37  38  39  \n",
      " 12  13  14  15  16  17  18   40  41  42  43  44  45  46  \n",
      " 19  20  21  22  23  24  25   47  48  49  50  51  52  53  \n",
      " 26  27  28  29  30  31       54  55  56  57  58  59      \n",
      "                                                          \n",
      "\n",
      "           Marzo                        Abril             \n",
      " do  lu  ma  mi  ju  vi  sá   do  lu  ma  mi  ju  vi  sá  \n",
      "                         60           91  92  93  94  95  \n",
      " 61  62  63  64  65  66  67   96  97  98  99 100 101 102  \n",
      " 68  69  70  71  72  73  74  103 104 105 106 107 108 109  \n",
      " 75  76  77  78  79  80  81  110 111 112 113 114 115 116  \n",
      " 82  83  84  85  86  87  88  117 118 119 120              \n",
      " 89  90                                                   \n",
      "\n",
      "           Mayo                         Junio             \n",
      " do  lu  ma  mi  ju  vi  sá   do  lu  ma  mi  ju  vi  sá  \n",
      "                121 122 123  152 153 154 155 156 157 158  \n",
      "124 125 126 127 128 129 130  159 160 161 162 163 164 165  \n",
      "131 132 133 134 135 136 137  166 167 168 169 170 171 172  \n",
      "138 139 140 141 142 143 144  173 174 175 176 177 178 179  \n",
      "145 146 147 148 149 150 151  180 181                      \n",
      "                                                          \n",
      "\n",
      "           Julio                       Agosto             \n",
      " do  lu  ma  mi  ju  vi  sá   do  lu  ma  mi  ju  vi  sá  \n",
      "        182 183 184 185 186                      213 214  \n",
      "187 188 189 190 191 192 193  215 216 217 218 219 220 221  \n",
      "194 195 196 197 198 199 200  222 223 224 225 226 227 228  \n",
      "201 202 203 204 205 206 207  229 230 231 232 233 234 235  \n",
      "208 209 210 211 212          236 237 238 239 240 241 242  \n",
      "                             243                          \n",
      "\n",
      "        Septiembre                     Octubre            \n",
      " do  lu  ma  mi  ju  vi  sá   do  lu  ma  mi  ju  vi  sá  \n",
      "    244 245 246 247 248 249              274 275 276 277  \n",
      "250 251 252 253 254 255 256  278 279 280 281 282 283 284  \n",
      "257 258 259 260 261 262 263  285 286 287 288 289 290 291  \n",
      "264 265 266 267 268 269 270  292 293 294 295 296 297 298  \n",
      "271 272 273                  299 300 301 302 303 304      \n",
      "                                                          \n",
      "\n",
      "         Noviembre                    Diciembre           \n",
      " do  lu  ma  mi  ju  vi  sá   do  lu  ma  mi  ju  vi  sá  \n",
      "                        305      335 336 337 338 339 340  \n",
      "306 307 308 309 310 311 312  341 342 343 344 345 346 347  \n",
      "313 314 315 316 317 318 319  348 349 350 351 352 353 354  \n",
      "320 321 322 323 324 325 326  355 356 357 358 359 360 361  \n",
      "327 328 329 330 331 332 333  362 363 364 365              \n",
      "334                                                       \n"
     ]
    }
   ],
   "source": [
    "cal -j 1913"
   ]
  },
  {
   "cell_type": "markdown",
   "metadata": {},
   "source": [
    "El 17 de julio de 1913 fue jueves y correspondió al día 198 del año."
   ]
  },
  {
   "cell_type": "code",
   "execution_count": 6,
   "metadata": {},
   "outputs": [
    {
     "name": "stdout",
     "output_type": "stream",
     "text": [
      "Linux Ubuntu-VirtualBox 5.4.0-48-generic #52-Ubuntu SMP Thu Sep 10 10:58:49 UTC 2020 x86_64 x86_64 x86_64 GNU/Linux\n"
     ]
    }
   ],
   "source": [
    "uname -a"
   ]
  },
  {
   "cell_type": "markdown",
   "metadata": {},
   "source": [
    "Mi versión del kernel es la 5.4.0."
   ]
  },
  {
   "cell_type": "code",
   "execution_count": 12,
   "metadata": {},
   "outputs": [
    {
     "name": "stdout",
     "output_type": "stream",
     "text": [
      "/home/zarathustra/Programming\n"
     ]
    }
   ],
   "source": [
    "pwd"
   ]
  },
  {
   "cell_type": "code",
   "execution_count": 13,
   "metadata": {},
   "outputs": [],
   "source": [
    "mkdir Daniel"
   ]
  },
  {
   "cell_type": "code",
   "execution_count": 15,
   "metadata": {},
   "outputs": [],
   "source": [
    "mkdir Daniel/Lopez"
   ]
  },
  {
   "cell_type": "code",
   "execution_count": 16,
   "metadata": {},
   "outputs": [],
   "source": [
    "mkdir Daniel/Lopez2"
   ]
  },
  {
   "cell_type": "code",
   "execution_count": 19,
   "metadata": {},
   "outputs": [],
   "source": [
    "touch prueba"
   ]
  },
  {
   "cell_type": "code",
   "execution_count": 24,
   "metadata": {},
   "outputs": [],
   "source": [
    "touch .fate"
   ]
  },
  {
   "cell_type": "code",
   "execution_count": 25,
   "metadata": {},
   "outputs": [],
   "source": [
    "cd ~"
   ]
  },
  {
   "cell_type": "code",
   "execution_count": 26,
   "metadata": {},
   "outputs": [
    {
     "name": "stdout",
     "output_type": "stream",
     "text": [
      "/home/zarathustra\n"
     ]
    }
   ],
   "source": [
    "pwd"
   ]
  },
  {
   "cell_type": "markdown",
   "metadata": {},
   "source": [
    "El comando *cd ~* te lleva de vuelta al directorio de usuario."
   ]
  },
  {
   "cell_type": "code",
   "execution_count": 29,
   "metadata": {},
   "outputs": [
    {
     "name": "stdout",
     "output_type": "stream",
     "text": [
      ".:\n",
      "\u001b[0m\u001b[01;34mLopez\u001b[0m  \u001b[01;34mLopez2\u001b[0m\n",
      "\n",
      "./Lopez:\n",
      "prueba\n",
      "\n",
      "./Lopez2:\n"
     ]
    }
   ],
   "source": [
    "ls -R"
   ]
  },
  {
   "cell_type": "markdown",
   "metadata": {},
   "source": [
    "El archivo que inicia con un punto no aparece en el listado de contenido. Para verlo es necesario usar el comando *ls -R -a*, para mostrar los archivos ocultos:"
   ]
  },
  {
   "cell_type": "code",
   "execution_count": 30,
   "metadata": {},
   "outputs": [
    {
     "name": "stdout",
     "output_type": "stream",
     "text": [
      ".:\n",
      "\u001b[0m\u001b[01;34m.\u001b[0m  \u001b[01;34m..\u001b[0m  \u001b[01;34mLopez\u001b[0m  \u001b[01;34mLopez2\u001b[0m\n",
      "\n",
      "./Lopez:\n",
      "\u001b[01;34m.\u001b[0m  \u001b[01;34m..\u001b[0m  prueba\n",
      "\n",
      "./Lopez2:\n",
      "\u001b[01;34m.\u001b[0m  \u001b[01;34m..\u001b[0m  .fate\n"
     ]
    }
   ],
   "source": [
    "ls -R -a"
   ]
  }
 ],
 "metadata": {
  "kernelspec": {
   "display_name": "Bash",
   "language": "bash",
   "name": "bash"
  },
  "language_info": {
   "codemirror_mode": "shell",
   "file_extension": ".sh",
   "mimetype": "text/x-sh",
   "name": "bash"
  }
 },
 "nbformat": 4,
 "nbformat_minor": 4
}
