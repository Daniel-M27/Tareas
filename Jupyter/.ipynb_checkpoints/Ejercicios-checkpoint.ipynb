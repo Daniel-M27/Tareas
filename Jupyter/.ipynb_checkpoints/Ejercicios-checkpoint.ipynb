{
 "cells": [
  {
   "cell_type": "markdown",
   "metadata": {},
   "source": [
    "# **Ejercicios de Programación** \n",
    "\n",
    "##### Daniel López \n",
    "##### Computación 8093 \n",
    "\n",
    "---\n",
    "---\n",
    "\n",
    "## *Ejercicio 1*  \n",
    "#### a) Promedio de dos números\n",
    "\n",
    "---\n",
    "\n",
    "Para tomar el promedio de $a$ y $b$ simplemente usamos la definición $\\frac{a+b}{2}$:"
   ]
  },
  {
   "cell_type": "code",
   "execution_count": 1,
   "metadata": {},
   "outputs": [
    {
     "name": "stdin",
     "output_type": "stream",
     "text": [
      ">  85\n",
      ">  95\n"
     ]
    },
    {
     "name": "stdout",
     "output_type": "stream",
     "text": [
      "90.0\n"
     ]
    }
   ],
   "source": [
    "a = float(input('> '))\n",
    "b = float(input('> '))\n",
    "\n",
    "print((a + b) / 2)"
   ]
  },
  {
   "cell_type": "markdown",
   "metadata": {},
   "source": [
    "Convertimos el input a números e imprimimos el promedio.\n",
    "\n",
    "#### b) Calcular $\\sum_{i=0}^{n} i$\n",
    "\n",
    "---\n",
    "\n",
    "Una forma sencilla de hacer el cálculo es apoyándonos en la fórmula de Gauss, la cual afirma que \n",
    "$$\n",
    "\\sum_{i=0}^{n} i = \\frac{n(n+1)}{2}.\n",
    "$$"
   ]
  },
  {
   "cell_type": "code",
   "execution_count": 2,
   "metadata": {},
   "outputs": [
    {
     "name": "stdin",
     "output_type": "stream",
     "text": [
      ">  100\n"
     ]
    },
    {
     "name": "stdout",
     "output_type": "stream",
     "text": [
      "5050\n"
     ]
    }
   ],
   "source": [
    "lim = int(input('> '))\n",
    "\n",
    "if lim >= 0:\n",
    "    print(lim * (lim + 1) // 2)"
   ]
  },
  {
   "cell_type": "markdown",
   "metadata": {},
   "source": [
    "El `if` asegura que el límite de la sumatoria tenga sentido dentro de este contexto, pues el límite superior de una sumatoria debe ser mayor o igual al inferior. Además, para evitar redondeos indeseados podemos utilizar la división de enteros, `//`, que tiene precisión arbitraria.\n",
    "\n",
    "#### c) Calcular el factorial de un número introducido por el usuario\n",
    "\n",
    "---\n",
    "\n",
    "Recornemos que para $n \\in \\mathbb{N}$, el factorial de $n$ se define como $1 \\cdot 2 \\cdot 3 \\cdot \\ldots \\cdot n  = \\prod_{i = 1}^{n} i $. ($0! = 1$ por convención). \n",
    "\n",
    "Usando una estructura `while`, podemos multiplicar enteros positivos sucesivos. Empezamos declarando una variable contadora, y la variable `fac`, que almacena el valor del factorial. Ambas comienzan en $1$. Luego simplemente multiplicamos `fac` por valores sucesivos de $n$. El proceso se detiene cuando la variable contadora alcanza el valor del número introducido por el usuario."
   ]
  },
  {
   "cell_type": "code",
   "execution_count": 3,
   "metadata": {},
   "outputs": [
    {
     "name": "stdin",
     "output_type": "stream",
     "text": [
      "Factorial:  6\n"
     ]
    },
    {
     "name": "stdout",
     "output_type": "stream",
     "text": [
      "6! = 720\n"
     ]
    }
   ],
   "source": [
    "num = int(input('Factorial: '))\n",
    "n = 1                                       # Variable contadora.\n",
    "fac = 1\n",
    "\n",
    "if num >= 0:                                # El factorial no está definido para números negativos.\n",
    "    while n < num:\n",
    "        fac = fac * (n + 1)                 \n",
    "        n = n + 1                           \n",
    "\n",
    "    print (f\"{num}! = {fac}\")               # Notemos que esto devuelve 0! = 1."
   ]
  },
  {
   "cell_type": "markdown",
   "metadata": {},
   "source": [
    "Además de lo anteriormente dicho, se añade un condicional para asegurar que el número introducido por el usuario tenga un factorial definido.\n",
    "\n",
    "#### d) Calcular la potencia $a^n$\n",
    "\n",
    "---\n",
    "\n",
    "Una solución simple es usando un `while` con una variable contadora, pues recordemos que la enésima potencia de $a$ (si $n$ es un entero positivo) se define como: \n",
    "$$\n",
    "a^n = \\underbrace{a \\cdot a \\cdot \\ldots \\cdot a}_{n \\ \\text{veces}}.\n",
    "$$\n",
    "\n",
    "Como este concepto es fácil de extender a potencias negativas $\\left(a^{-n} = \\frac{1}{a^n}\\right)$, así que también se incluye en el código."
   ]
  },
  {
   "cell_type": "code",
   "execution_count": 4,
   "metadata": {},
   "outputs": [
    {
     "name": "stdin",
     "output_type": "stream",
     "text": [
      "Base:  2\n",
      "Exponente:  8\n"
     ]
    },
    {
     "name": "stdout",
     "output_type": "stream",
     "text": [
      "Resultado: 256\n"
     ]
    }
   ],
   "source": [
    "base = int(input('Base: '  ))           # Convertimos el input en números.\n",
    "exp = int(input('Exponente: ' ))\n",
    "n = 1                                   # Variable contadora.\n",
    "pow = 1                                 # Almacena la potencia.\n",
    "\n",
    "while n <= abs(exp):                    # Si el exponente es cero, el ciclo no inicia.\n",
    "    pow = pow * base                    \n",
    "    n = n + 1                           \n",
    "\n",
    "if exp >= 0:\n",
    "    print(f\"Resultado: {pow}\") \n",
    "elif exp < 0:\n",
    "    print(f\"Resultado: {1 / float(pow)}\")"
   ]
  },
  {
   "cell_type": "markdown",
   "metadata": {},
   "source": [
    "Empezamos declarando las variables necesarias. En este  caso`pow` almacena la potencia, y empieza con el valor $1$, esto para asegurar que $a^0 = 1$ (incluso cuando $a = 0$). El ciclo `while` es básicamente la traducción a código de lo que se dijo antes. Multiplica la base por sí misma hasta que la variable contadora sea mayor al **valor absoluto** del exponente. Así, al final del ciclo, `pow` tiene el valor $a^{|n|}$. <br>\n",
    "\n",
    "Si la potencia era positiva se imprime `pow` tal cual; si era negativa se imprime su recíproco.\n",
    "\n",
    "## *Ejercicio 2* \n",
    "\n",
    "---\n",
    "---\n",
    "\n",
    "**Calcular $\\mathrm{C}_{n}^{k} = \\begin{pmatrix}\n",
    "n \\\\\n",
    "k\n",
    "\\end{pmatrix}\n",
    "$.**\n",
    "\n",
    "Basta con aplicar la siguiente fórmula:\n",
    "\n",
    "\\begin{align*}\n",
    "\\begin{pmatrix}\n",
    "n \\\\\n",
    "k\n",
    "\\end{pmatrix} \n",
    "= \\frac{n!}{k!(n-k)!}\n",
    "\\end{align*}\n",
    "\n",
    "Recordando que $k$ debe cumplir con $0 \\leq k \\leq n$. También nos apoyamos en la función factorial que definimos antes."
   ]
  },
  {
   "cell_type": "code",
   "execution_count": 12,
   "metadata": {},
   "outputs": [
    {
     "name": "stdin",
     "output_type": "stream",
     "text": [
      "Combinación de:  12\n",
      "en:  2\n"
     ]
    },
    {
     "name": "stdout",
     "output_type": "stream",
     "text": [
      "66\n"
     ]
    }
   ],
   "source": [
    "def fac(num):\n",
    "    fac = 1\n",
    "    n = 1\n",
    "    if num >= 0:\n",
    "        while n < num:\n",
    "            fac = fac * (n + 1)\n",
    "            n = n + 1\n",
    "        return fac\n",
    "\n",
    "n = int(input(\"Combinación de: \"))\n",
    "k = int(input(\"en: \"))\n",
    "\n",
    "if k <= n:\n",
    "    print(fac(n) // (fac(k) * fac(n - k)))"
   ]
  },
  {
   "cell_type": "markdown",
   "metadata": {},
   "source": [
    "Por la fórmula de arriba, sabemos que el resultado es un entero, así que usamos `//`. Además, agregamos la condición $k \\leq n$, de lo contrario la combinatoria está indefinida.\n",
    "\n",
    "## *Ejercicio 3*\n",
    "\n",
    "---\n",
    "---\n",
    "\n",
    "**Aproximación de $\\pi$ siguiendo la serie**\n",
    "\n",
    "$$\n",
    "\\sum_{n = 0}^{\\infty} \\frac{(-1)^n}{2n + 1} = \\frac{\\pi}{4}.\n",
    "$$\n",
    "\n",
    "Para ello, simplemente pedimos al usuario un valor del límite superior, que nos diga cuántos términos de la serie sumar; mientras más grande el número, mejor la aproximación. Luego de sumar iteradamente los términos simplemente multiplicamos el resultado por $4$."
   ]
  },
  {
   "cell_type": "code",
   "execution_count": 14,
   "metadata": {},
   "outputs": [
    {
     "name": "stdin",
     "output_type": "stream",
     "text": [
      "Ingrese el número de términos que desea sumar:  10000000\n"
     ]
    },
    {
     "name": "stdout",
     "output_type": "stream",
     "text": [
      "3.1415927535897814\n"
     ]
    }
   ],
   "source": [
    "lim = int(input('Ingrese el número de términos que desea sumar: '))\n",
    "n = 0                                                      \n",
    "pi = 0                                                     \n",
    "\n",
    "if lim >= 0:                                                \n",
    "    while n <= lim:                                         \n",
    "        pi = pi + ((-1) ** n / (float(2 * n + 1)))          \n",
    "        n = n + 1\n",
    "\n",
    "    print(4 * pi)    "
   ]
  },
  {
   "cell_type": "markdown",
   "metadata": {},
   "source": [
    "El valor de cada suma se almacena en `pi`, al cual se le suma el siguiente término de la serie hasta alcanzar el límite superior dado por el usuario. Al final simplemente multiplicamos este resultado por $4$ para aproximar $\\pi$. \n",
    "\n",
    "Notemos también que la serie converge muy lento, pues necesitamos sumar diez millones de términos para obtener una aproximación con seis decimales de precisión.\n",
    "\n",
    "## *Ejercicio 4*\n",
    "\n",
    "---\n",
    "---\n",
    "\n",
    "**Calcular $e$ basándose en la serie:**\n",
    "\n",
    "$$\n",
    "\\sum_{n = 0}^{\\infty} \\frac{1}{n!} = e .\n",
    "$$\n",
    "\n",
    "Este problema es muy parecido al anterior, así que la solución tendrá exactamente la misma estructura: pedir un límite superior al usuario y calcular la serie con una estructura `while`. La única diferencia es que esta serie converge directamente al valor que queremos aproximar, así que podemos imprimir el resultado a la pantalla sin hacer ninguna otra manipulación aritmética."
   ]
  },
  {
   "cell_type": "code",
   "execution_count": 15,
   "metadata": {},
   "outputs": [
    {
     "name": "stdin",
     "output_type": "stream",
     "text": [
      "Ingrese el número de términos que desea sumar:  150\n"
     ]
    },
    {
     "name": "stdout",
     "output_type": "stream",
     "text": [
      "2.7182818284590455\n"
     ]
    }
   ],
   "source": [
    "def fac(num):                                       # Función factorial.\n",
    "    fac = 1\n",
    "    n = 1\n",
    "    if num >= 0:\n",
    "        while n < num:\n",
    "            fac = fac * (n + 1)\n",
    "            n = n + 1\n",
    "        return fac\n",
    "\n",
    "lim = int(input('Ingrese el número de términos que desea sumar: '))\n",
    "n = 0                                          \n",
    "eul = 0                                        \n",
    "\n",
    "if lim >= 0:                                    \n",
    "    while n <= lim:                            \n",
    "        eul = eul + 1 / float(fac(n))          \n",
    "        n = n + 1\n",
    "\n",
    "    print(eul)    "
   ]
  },
  {
   "cell_type": "markdown",
   "metadata": {},
   "source": [
    "Nos apoyamos de la función factorial que definimos en el ejercicio 1. Notemos también que la serie converge muy rápido; con solo 150 términos obtenemos una aproximación con 15 decimales de precisión. Además, si introducimos un número un poco mayor (200, por ejemplo) rebasamos la capacidad de `float()`, que solo contempla 16 decimales de precisión.\n",
    "\n",
    "## *Ejercicio 5*\n",
    "\n",
    "---\n",
    "---\n",
    "\n",
    "**Calcular las raíces de un polinomio cuadrático $ax^2 + bx + c = 0$**\n",
    "\n",
    "La solución es relativamente sencilla, aunque larga, puesto que debemos considerar varios casos de los valores de los coeficientes.\n",
    "Primero consideramos la situación $a \\neq 0$. Este caso es el más largo, y a su vez se divide en otros tres subcasos. Apelando a la fórmula cuadrática, sabemos que las raíces son de la forma\n",
    "\n",
    "$$\n",
    "x = \\frac{-b \\pm \\sqrt{b^2 - 4ac}}{2a}.\n",
    "$$\n",
    "\n",
    "Ahora, notemos que el valor del radical $b^2 - 4ac$ determina el tipo de raíces del polinomio (por ello se le llama **discriminante**). Si es *igual a cero*, tendremos una solución única, pues $\\pm\\sqrt{0} = \\pm 0 = 0$. si es *mayor que cero*, tenemos dos resultados posibles, siendo ambos números reales. Por último, si es *menor que cero* tendremos dos raíces complejas, ya que la raíz cuadrada de un número negativo es compleja:\n",
    "\n",
    "$$\n",
    "x_1 = \\frac{-b + \\sqrt{b^2 - 4ac}}{2a} \\quad x_2 = \\frac{-b - \\sqrt{b^2 - 4ac}}{2a} ,\n",
    "$$\n",
    "\n",
    "donde $x_1, x_2 \\in\\mathbb{R}$ si $b^2 - 4ac > 0$ y $x_1, x_2 \\in\\mathbb{C}$ si $b^2 - 4ac < 0$.  \n",
    "\n",
    "Si tenemos $a = 0$, el cálculo es mucho más simple, solo debemos despejar $x$ en la expresión $bx + c = 0$ para obtener $x = -\\frac{c}{b}$; pero esto solo tiene sentido cuando $b \\neq 0$. Por último, si $a = b = 0$, la ecuación $0x^2 + 0x + c = 0$ se cumple para cualquier número si $c = 0$, y no se cumple para ninguno si $c \\neq 0$."
   ]
  },
  {
   "cell_type": "code",
   "execution_count": 10,
   "metadata": {},
   "outputs": [
    {
     "name": "stdout",
     "output_type": "stream",
     "text": [
      "Ingrese los coeficientes del polinomio ax² + bx + c con el formato a b c \n"
     ]
    },
    {
     "name": "stdin",
     "output_type": "stream",
     "text": [
      ">  1 -1 4\n"
     ]
    }
   ],
   "source": [
    "import math as m\n",
    "import cmath as cm\n",
    "\n",
    "print(\"Ingrese los coeficientes del polinomio ax² + bx + c con el formato a b c \")\n",
    "\n",
    "coeff = list(map(float,  input(\"> \").split()))      # Almacena los coeficientes en una lista (siendo ya números).\n",
    "a = coeff[0]\n",
    "b = coeff[1]\n",
    "c = coeff[2]\n",
    "\n",
    "disc = b ** 2 - 4 * a * c                           # No se necesitan paréntesis."
   ]
  },
  {
   "cell_type": "markdown",
   "metadata": {},
   "source": [
    "Lo primero que hacemos es importar las bibliotecas que necesitamos. En este caso requerimos de la función `math.sqrt()` y `cmath.sqrt()`. La primera funciona mejor cuando el contradominio es $\\mathbb{R}$, mientras que la segunda extiende el contradominio a $\\mathbb{C}$. <br>\n",
    "Luego le pedimos al usuario que ingrese los coeficientes del polinomio en orden y separados por un espacio. Python lo toma como un string `\"a b c\"`, así que usamos el método `.split()` para obtener `'a', 'b', 'c'`. Luego aplicamos la función `map(<función>, <secuencia de caracteres>)`, que aplica una función a todos los elementos de una secuencia dada; en este caso aplicamos `float()` a cada coeficiente. Por último, dichos coeficientes se almacenan en la lista `coeff`.\n",
    "\n",
    "Una vez obtenidos los coeficientes, asignamos el valor del discriminante a `disc`. Ahora tenemos toda la información necesaria para calcular las raíces:"
   ]
  },
  {
   "cell_type": "code",
   "execution_count": 3,
   "metadata": {},
   "outputs": [
    {
     "name": "stdout",
     "output_type": "stream",
     "text": [
      "Raices del polinomio (1.0)x² + (-1.0)x + (4.0) :\n",
      "Raices complejas dobles.\n",
      "x₁ = (0.5+1.9364916731037085j)\n",
      "x₂ = (0.5-1.9364916731037085j)\n",
      "        \n"
     ]
    }
   ],
   "source": [
    "print(\"Raices del polinomio ({})x² + ({})x + ({}) :\".format(a, b, c))\n",
    "\n",
    "if a != 0:                                              \n",
    "    if disc == 0:                                       \n",
    "        print(f\"\"\"Raíz real única.\n",
    "        \\rx = {-b / (2 * a)}\n",
    "        \"\"\")\n",
    "\n",
    "    elif disc > 0:                                      # La raíz de un número positivo es un número real.\n",
    "        print(f\"\"\"Raices reales dobles.\n",
    "        \\rx₁ = {(-b + m.sqrt(disc)) / (2 * a)}\n",
    "        \\rx₂ = {(-b - m.sqrt(disc)) / (2 * a)}\n",
    "        \"\"\")\n",
    "\n",
    "    elif disc < 0:                                      # La raíz de un número negativo es un número complejo.\n",
    "        print(f\"\"\"Raices complejas dobles.\n",
    "        \\rx₁ = {(-b + cm.sqrt(disc)) / (2 * a)}\n",
    "        \\rx₂ = {(-b - cm.sqrt(disc)) / (2 * a)}\n",
    "        \"\"\")"
   ]
  },
  {
   "cell_type": "markdown",
   "metadata": {},
   "source": [
    "Este es el caso donde se aplica la fórmula cuadrática, según el valor del discriminante. (j es el valor imaginario definido por $j^2 = -1$)."
   ]
  },
  {
   "cell_type": "code",
   "execution_count": 9,
   "metadata": {},
   "outputs": [
    {
     "name": "stdout",
     "output_type": "stream",
     "text": [
      "\n",
      "Ningún número es una solución de (0.0)x² + (0.0)x + (5.0) = 0\n",
      "        \n"
     ]
    }
   ],
   "source": [
    "if a == 0 and b != 0:                                     \n",
    "    print(f\"\"\"Función lineal de la forma mx + b.\n",
    "    \\rx = {-c / b}\n",
    "    \"\"\")\n",
    "elif a == 0 and b == 0:                                 # Caso trivial y casos sin solución.\n",
    "    if c != 0:\n",
    "        print(\"\"\"\n",
    "        \\rNingún número es una solución de ({})x² + ({})x + ({}) = 0\n",
    "        \"\"\".format(a, b, c))\n",
    "    elif c == 0:\n",
    "        print(\"\"\"\n",
    "        \\rCualquier número es una solución de ({})x² + ({})x + ({}) = 0\n",
    "        \"\"\".format(a, b, c))"
   ]
  },
  {
   "cell_type": "markdown",
   "metadata": {},
   "source": [
    "Esta última parte corresponde a los casos simplificados donde alguno de los coeficientes es cero.\n",
    "\n",
    "## *Ejercicio 6*\n",
    "\n",
    "---\n",
    "---\n",
    "\n",
    "**Calcular el producto cruz, $\\vec{u}\\times\\vec{v}$, para dos vectores en $\\mathbb{R}^3$.**\n",
    "\n"
   ]
  }
 ],
 "metadata": {
  "kernelspec": {
   "display_name": "Python 3",
   "language": "python",
   "name": "python3"
  },
  "language_info": {
   "codemirror_mode": {
    "name": "ipython",
    "version": 3
   },
   "file_extension": ".py",
   "mimetype": "text/x-python",
   "name": "python",
   "nbconvert_exporter": "python",
   "pygments_lexer": "ipython3",
   "version": "3.8.5"
  }
 },
 "nbformat": 4,
 "nbformat_minor": 4
}
