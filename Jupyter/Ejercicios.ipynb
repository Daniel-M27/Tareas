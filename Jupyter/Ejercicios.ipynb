{
 "cells": [
  {
   "cell_type": "markdown",
   "metadata": {},
   "source": [
    "# **Ejercicios de Programación** \n",
    "\n",
    "##### Daniel López \n",
    "##### Computación 8093 \n",
    "\n",
    "---\n",
    "---\n",
    "\n",
    "## *Ejercicio 1*  \n",
    "#### a) Promedio de dos números\n",
    "\n",
    "---\n",
    "\n",
    "Para tomar el promedio de $a$ y $b$ simplemente usamos la definición $\\frac{a+b}{2}$:"
   ]
  },
  {
   "cell_type": "code",
   "execution_count": 1,
   "metadata": {},
   "outputs": [
    {
     "name": "stdin",
     "output_type": "stream",
     "text": [
      ">  85\n",
      ">  95\n"
     ]
    },
    {
     "name": "stdout",
     "output_type": "stream",
     "text": [
      "90.0\n"
     ]
    }
   ],
   "source": [
    "a = float(input('> '))\n",
    "b = float(input('> '))\n",
    "\n",
    "print((a + b) / 2)"
   ]
  },
  {
   "cell_type": "markdown",
   "metadata": {},
   "source": [
    "Convertimos el input a números e imprimimos el promedio.\n",
    "\n",
    "#### b) Calcular $\\sum_{i=0}^{n} i$\n",
    "\n",
    "---\n",
    "\n",
    "Una forma sencilla de hacer el cálculo es apoyándonos en la fórmula de Gauss, la cual afirma que \n",
    "$$\n",
    "\\sum_{i=0}^{n} i = \\frac{n(n+1)}{2}.\n",
    "$$"
   ]
  },
  {
   "cell_type": "code",
   "execution_count": 2,
   "metadata": {},
   "outputs": [
    {
     "name": "stdin",
     "output_type": "stream",
     "text": [
      ">  100\n"
     ]
    },
    {
     "name": "stdout",
     "output_type": "stream",
     "text": [
      "5050\n"
     ]
    }
   ],
   "source": [
    "lim = int(input('> '))\n",
    "\n",
    "if lim >= 0:\n",
    "    print(lim * (lim + 1) // 2)"
   ]
  },
  {
   "cell_type": "markdown",
   "metadata": {},
   "source": [
    "El `if` asegura que el límite de la sumatoria tenga sentido dentro de este contexto, pues el límite superior de una sumatoria debe ser mayor o igual al inferior. Además, para evitar redondeos indeseados podemos utilizar la división de enteros, `//`, que tiene precisión arbitraria.\n",
    "\n",
    "#### c) Calcular el factorial de un número introducido por el usuario\n",
    "\n",
    "---\n",
    "\n",
    "Recornemos que para $n \\in \\mathbb{N}$, el factorial de $n$ se define como $1 \\cdot 2 \\cdot 3 \\cdot \\ldots \\cdot n  = \\prod_{i = 1}^{n} i $. ($0! = 1$ por convención). \n",
    "\n",
    "Usando una estructura `while`, podemos multiplicar enteros positivos sucesivos. Empezamos declarando una variable contadora, y la variable `fac`, que almacena el valor del factorial. Ambas comienzan en $1$. Luego simplemente multiplicamos `fac` por valores sucesivos de $n$. El proceso se detiene cuando la variable contadora alcanza el valor del número introducido por el usuario."
   ]
  },
  {
   "cell_type": "code",
   "execution_count": 3,
   "metadata": {},
   "outputs": [
    {
     "name": "stdin",
     "output_type": "stream",
     "text": [
      "Factorial:  6\n"
     ]
    },
    {
     "name": "stdout",
     "output_type": "stream",
     "text": [
      "6! = 720\n"
     ]
    }
   ],
   "source": [
    "num = int(input('Factorial: '))\n",
    "n = 1                                       # Variable contadora.\n",
    "fac = 1\n",
    "\n",
    "if num >= 0:                                # El factorial no está definido para números negativos.\n",
    "    while n < num:\n",
    "        fac = fac * (n + 1)                 \n",
    "        n = n + 1                           \n",
    "\n",
    "    print (f\"{num}! = {fac}\")               # Notemos que esto devuelve 0! = 1."
   ]
  },
  {
   "cell_type": "markdown",
   "metadata": {},
   "source": [
    "Además de lo anteriormente dicho, se añade un condicional para asegurar que el número introducido por el usuario tenga un factorial definido.\n",
    "\n",
    "#### d) Calcular la potencia $a^n$\n",
    "\n",
    "---\n",
    "\n",
    "Una solución simple es usando un `while` con una variable contadora, pues recordemos que la enésima potencia de $a$ (si $n$ es un entero positivo) se define como: \n",
    "$$\n",
    "a^n = \\underbrace{a \\cdot a \\cdot \\ldots \\cdot a}_{n \\ \\text{veces}}.\n",
    "$$\n",
    "\n",
    "Como este concepto es fácil de extender a potencias negativas $\\left(a^{-n} = \\frac{1}{a^n}\\right)$, así que también se incluye en el código."
   ]
  },
  {
   "cell_type": "code",
   "execution_count": 4,
   "metadata": {},
   "outputs": [
    {
     "name": "stdin",
     "output_type": "stream",
     "text": [
      "Base:  2\n",
      "Exponente:  8\n"
     ]
    },
    {
     "name": "stdout",
     "output_type": "stream",
     "text": [
      "Resultado: 256\n"
     ]
    }
   ],
   "source": [
    "base = int(input('Base: '  ))           # Convertimos el input en números.\n",
    "exp = int(input('Exponente: ' ))\n",
    "n = 1                                   # Variable contadora.\n",
    "pow = 1                                 # Almacena la potencia.\n",
    "\n",
    "while n <= abs(exp):                    # Si el exponente es cero, el ciclo no inicia.\n",
    "    pow = pow * base                    \n",
    "    n = n + 1                           \n",
    "\n",
    "if exp >= 0:\n",
    "    print(f\"Resultado: {pow}\") \n",
    "elif exp < 0:\n",
    "    print(f\"Resultado: {1 / float(pow)}\")"
   ]
  },
  {
   "cell_type": "markdown",
   "metadata": {},
   "source": [
    "Empezamos declarando las variables necesarias. En este  caso`pow` almacena la potencia, y empieza con el valor $1$, esto para asegurar que $a^0 = 1$ (incluso cuando $a = 0$). El ciclo `while` es básicamente la traducción a código de lo que se dijo antes. Multiplica la base por sí misma hasta que la variable contadora sea mayor al **valor absoluto** del exponente. Así, al final del ciclo, `pow` tiene el valor $a^{|n|}$. <br>\n",
    "\n",
    "Si la potencia era positiva se imprime `pow` tal cual; si era negativa se imprime su recíproco.\n",
    "\n",
    "## *Ejercicio 2* \n",
    "\n",
    "---\n",
    "---\n",
    "\n",
    "**Calcular $\\mathrm{C}_{n}^{k} = \\begin{pmatrix}\n",
    "n \\\\\n",
    "k\n",
    "\\end{pmatrix}\n",
    "$.**\n",
    "\n",
    "Basta con aplicar la siguiente fórmula:\n",
    "\n",
    "\\begin{align*}\n",
    "\\begin{pmatrix}\n",
    "n \\\\\n",
    "k\n",
    "\\end{pmatrix} \n",
    "= \\frac{n!}{k!(n-k)!}\n",
    "\\end{align*}\n",
    "\n",
    "Recordando que $k$ debe cumplir con $0 \\leq k \\leq n$. También nos apoyamos en la función factorial que definimos antes."
   ]
  },
  {
   "cell_type": "code",
   "execution_count": 12,
   "metadata": {},
   "outputs": [
    {
     "name": "stdin",
     "output_type": "stream",
     "text": [
      "Combinación de:  12\n",
      "en:  2\n"
     ]
    },
    {
     "name": "stdout",
     "output_type": "stream",
     "text": [
      "66\n"
     ]
    }
   ],
   "source": [
    "def fac(num):\n",
    "    fac = 1\n",
    "    n = 1\n",
    "    if num >= 0:\n",
    "        while n < num:\n",
    "            fac = fac * (n + 1)\n",
    "            n = n + 1\n",
    "        return fac\n",
    "\n",
    "n = int(input(\"Combinación de: \"))\n",
    "k = int(input(\"en: \"))\n",
    "\n",
    "if k <= n:\n",
    "    print(fac(n) // (fac(k) * fac(n - k)))"
   ]
  },
  {
   "cell_type": "markdown",
   "metadata": {},
   "source": [
    "Por la fórmula de arriba, sabemos que el resultado es un entero, así que usamos `//`. Además, agregamos la condición $k \\leq n$, de lo contrario la combinatoria está indefinida.\n",
    "\n",
    "## *Ejercicio 3*\n",
    "\n",
    "---\n",
    "---\n",
    "\n",
    "**Aproximación de $\\pi$ siguiendo la serie**\n",
    "\n",
    "$$\n",
    "\\sum_{n = 0}^{\\infty} \\frac{(-1)^n}{2n + 1} = \\frac{\\pi}{4}.\n",
    "$$\n",
    "\n",
    "Para ello, simplemente pedimos al usuario un valor del límite superior, que nos diga cuántos términos de la serie sumar; mientras más grande el número, mejor la aproximación. Luego de sumar iteradamente los términos simplemente multiplicamos el resultado por $4$."
   ]
  },
  {
   "cell_type": "code",
   "execution_count": 14,
   "metadata": {},
   "outputs": [
    {
     "name": "stdin",
     "output_type": "stream",
     "text": [
      "Ingrese el número de términos que desea sumar:  10000000\n"
     ]
    },
    {
     "name": "stdout",
     "output_type": "stream",
     "text": [
      "3.1415927535897814\n"
     ]
    }
   ],
   "source": [
    "lim = int(input('Ingrese el número de términos que desea sumar: '))\n",
    "n = 0                                                      \n",
    "pi = 0                                                     \n",
    "\n",
    "if lim >= 0:                                                \n",
    "    while n <= lim:                                         \n",
    "        pi = pi + ((-1) ** n / (float(2 * n + 1)))          \n",
    "        n = n + 1\n",
    "\n",
    "    print(4 * pi)    "
   ]
  },
  {
   "cell_type": "markdown",
   "metadata": {},
   "source": [
    "El valor de cada suma se almacena en `pi`, al cual se le suma el siguiente término de la serie hasta alcanzar el límite superior dado por el usuario. Al final simplemente multiplicamos este resultado por $4$ para aproximar $\\pi$. \n",
    "\n",
    "Notemos también que la serie converge muy lento, pues necesitamos sumar diez millones de términos para obtener una aproximación con seis decimales de precisión.\n",
    "\n",
    "## *Ejercicio 4*\n",
    "\n",
    "---\n",
    "---\n",
    "\n",
    "**Calcular $e$ basándose en la serie:**\n",
    "\n",
    "$$\n",
    "\\sum_{n = 0}^{\\infty} \\frac{1}{n!} = e .\n",
    "$$\n",
    "\n",
    "Este problema es muy parecido al anterior, así que la solución tendrá exactamente la misma estructura: pedir un límite superior al usuario y calcular la serie con una estructura `while`. La única diferencia es que esta serie converge directamente al valor que queremos aproximar, así que podemos imprimir el resultado a la pantalla sin hacer ninguna otra manipulación aritmética."
   ]
  },
  {
   "cell_type": "code",
   "execution_count": 15,
   "metadata": {},
   "outputs": [
    {
     "name": "stdin",
     "output_type": "stream",
     "text": [
      "Ingrese el número de términos que desea sumar:  150\n"
     ]
    },
    {
     "name": "stdout",
     "output_type": "stream",
     "text": [
      "2.7182818284590455\n"
     ]
    }
   ],
   "source": [
    "def fac(num):                                       # Función factorial.\n",
    "    fac = 1\n",
    "    n = 1\n",
    "    if num >= 0:\n",
    "        while n < num:\n",
    "            fac = fac * (n + 1)\n",
    "            n = n + 1\n",
    "        return fac\n",
    "\n",
    "lim = int(input('Ingrese el número de términos que desea sumar: '))\n",
    "n = 0                                          \n",
    "eul = 0                                        \n",
    "\n",
    "if lim >= 0:                                    \n",
    "    while n <= lim:                            \n",
    "        eul = eul + 1 / float(fac(n))          \n",
    "        n = n + 1\n",
    "\n",
    "    print(eul)    "
   ]
  },
  {
   "cell_type": "markdown",
   "metadata": {},
   "source": [
    "Nos apoyamos de la función factorial que definimos en el ejercicio 1. Notemos también que la serie converge muy rápido; con solo 150 términos obtenemos una aproximación con 15 decimales de precisión. Además, si introducimos un número un poco mayor (200, por ejemplo) rebasamos la capacidad de `float()`, que solo contempla 16 decimales de precisión.\n",
    "\n",
    "## *Ejercicio 5*\n",
    "\n",
    "---\n",
    "---\n",
    "\n",
    "**Calcular las raíces de un polinomio cuadrático $ax^2 + bx + c = 0$**\n",
    "\n",
    "La solución es relativamente sencilla, aunque larga, puesto que debemos considerar varios casos de los valores de los coeficientes.\n",
    "Primero consideramos la situación $a \\neq 0$. Este caso es el más largo, y a su vez se divide en otros tres subcasos. Apelando a la fórmula cuadrática, sabemos que las raíces son de la forma\n",
    "\n",
    "$$\n",
    "x = \\frac{-b \\pm \\sqrt{b^2 - 4ac}}{2a}.\n",
    "$$\n",
    "\n",
    "Ahora, notemos que el valor del radical $b^2 - 4ac$ determina el tipo de raíces del polinomio (por ello se le llama **discriminante**). Si es *igual a cero*, tendremos una solución única, pues $\\pm\\sqrt{0} = \\pm 0 = 0$. si es *mayor que cero*, tenemos dos resultados posibles, siendo ambos números reales. Por último, si es *menor que cero* tendremos dos raíces complejas, ya que la raíz cuadrada de un número negativo es compleja:\n",
    "\n",
    "$$\n",
    "x_1 = \\frac{-b + \\sqrt{b^2 - 4ac}}{2a} \\quad x_2 = \\frac{-b - \\sqrt{b^2 - 4ac}}{2a} ,\n",
    "$$\n",
    "\n",
    "donde $x_1, x_2 \\in\\mathbb{R}$ si $b^2 - 4ac > 0$ y $x_1, x_2 \\in\\mathbb{C}$ si $b^2 - 4ac < 0$.  \n",
    "\n",
    "Si tenemos $a = 0$, el cálculo es mucho más simple, solo debemos despejar $x$ en la expresión $bx + c = 0$ para obtener $x = -\\frac{c}{b}$; pero esto solo tiene sentido cuando $b \\neq 0$. Por último, si $a = b = 0$, la ecuación $0x^2 + 0x + c = 0$ se cumple para cualquier número si $c = 0$, y no se cumple para ninguno si $c \\neq 0$."
   ]
  },
  {
   "cell_type": "code",
   "execution_count": 10,
   "metadata": {},
   "outputs": [
    {
     "name": "stdout",
     "output_type": "stream",
     "text": [
      "Ingrese los coeficientes del polinomio ax² + bx + c con el formato a b c \n"
     ]
    },
    {
     "name": "stdin",
     "output_type": "stream",
     "text": [
      ">  1 -1 4\n"
     ]
    }
   ],
   "source": [
    "import math as m\n",
    "import cmath as cm\n",
    "\n",
    "print(\"Ingrese los coeficientes del polinomio ax² + bx + c con el formato a b c \")\n",
    "\n",
    "coeff = list(map(float,  input(\"> \").split()))      # Almacena los coeficientes en una lista (siendo ya números).\n",
    "a = coeff[0]\n",
    "b = coeff[1]\n",
    "c = coeff[2]\n",
    "\n",
    "disc = b ** 2 - 4 * a * c                           # No se necesitan paréntesis."
   ]
  },
  {
   "cell_type": "markdown",
   "metadata": {},
   "source": [
    "Lo primero que hacemos es importar las bibliotecas que necesitamos. En este caso requerimos de la función `math.sqrt()` y `cmath.sqrt()`. La primera funciona mejor cuando el contradominio es $\\mathbb{R}$, mientras que la segunda extiende el contradominio a $\\mathbb{C}$. <br>\n",
    "Luego le pedimos al usuario que ingrese los coeficientes del polinomio en orden y separados por un espacio. Python lo toma como un string `\"a b c\"`, así que usamos el método `.split()` para obtener `'a', 'b', 'c'`. Luego aplicamos la función `map(<función>, <secuencia de caracteres>)`, que aplica una función a todos los elementos de una secuencia dada; en este caso aplicamos `float()` a cada coeficiente. Por último, dichos coeficientes se almacenan en la lista `coeff`.\n",
    "\n",
    "Una vez obtenidos los coeficientes, asignamos el valor del discriminante a `disc`. Ahora tenemos toda la información necesaria para calcular las raíces:"
   ]
  },
  {
   "cell_type": "code",
   "execution_count": 3,
   "metadata": {},
   "outputs": [
    {
     "name": "stdout",
     "output_type": "stream",
     "text": [
      "Raices del polinomio (1.0)x² + (-1.0)x + (4.0) :\n",
      "Raices complejas dobles.\n",
      "x₁ = (0.5+1.9364916731037085j)\n",
      "x₂ = (0.5-1.9364916731037085j)\n",
      "        \n"
     ]
    }
   ],
   "source": [
    "print(\"Raices del polinomio ({})x² + ({})x + ({}) :\".format(a, b, c))\n",
    "\n",
    "if a != 0:                                              \n",
    "    if disc == 0:                                       \n",
    "        print(f\"\"\"Raíz real única.\n",
    "        \\rx = {-b / (2 * a)}\n",
    "        \"\"\")\n",
    "\n",
    "    elif disc > 0:                                      # La raíz de un número positivo es un número real.\n",
    "        print(f\"\"\"Raices reales dobles.\n",
    "        \\rx₁ = {(-b + m.sqrt(disc)) / (2 * a)}\n",
    "        \\rx₂ = {(-b - m.sqrt(disc)) / (2 * a)}\n",
    "        \"\"\")\n",
    "\n",
    "    elif disc < 0:                                      # La raíz de un número negativo es un número complejo.\n",
    "        print(f\"\"\"Raices complejas dobles.\n",
    "        \\rx₁ = {(-b + cm.sqrt(disc)) / (2 * a)}\n",
    "        \\rx₂ = {(-b - cm.sqrt(disc)) / (2 * a)}\n",
    "        \"\"\")"
   ]
  },
  {
   "cell_type": "markdown",
   "metadata": {},
   "source": [
    "Este es el caso donde se aplica la fórmula cuadrática, según el valor del discriminante. (j es el valor imaginario definido por $j^2 = -1$)."
   ]
  },
  {
   "cell_type": "code",
   "execution_count": 9,
   "metadata": {},
   "outputs": [
    {
     "name": "stdout",
     "output_type": "stream",
     "text": [
      "\n",
      "Ningún número es una solución de (0.0)x² + (0.0)x + (5.0) = 0\n",
      "        \n"
     ]
    }
   ],
   "source": [
    "if a == 0 and b != 0:                                     \n",
    "    print(f\"\"\"Función lineal de la forma mx + b.\n",
    "    \\rx = {-c / b}\n",
    "    \"\"\")\n",
    "elif a == 0 and b == 0:                                 # Caso trivial y casos sin solución.\n",
    "    if c != 0:\n",
    "        print(\"\"\"\n",
    "        \\rNingún número es una solución de ({})x² + ({})x + ({}) = 0\n",
    "        \"\"\".format(a, b, c))\n",
    "    elif c == 0:\n",
    "        print(\"\"\"\n",
    "        \\rCualquier número es una solución de ({})x² + ({})x + ({}) = 0\n",
    "        \"\"\".format(a, b, c))"
   ]
  },
  {
   "cell_type": "markdown",
   "metadata": {},
   "source": [
    "Esta última parte corresponde a los casos simplificados donde alguno de los coeficientes es cero.\n",
    "\n",
    "## *Ejercicio 6*\n",
    "\n",
    "---\n",
    "---\n",
    "\n",
    "**Calcular el producto cruz, $\\vec{u}\\times\\vec{v}$, para dos vectores en $\\mathbb{R}^3$.**\n",
    "\n",
    "En $\\mathbb{R}^3$, el producto cruz de dos vectores $\\overline{u} = (a,b,c)$ y $\\overline{v} = (r,s,t)$ se define como\n",
    "\n",
    "$$\n",
    "\\begin{vmatrix}\n",
    "\\hat{i} & \\hat{j} & \\hat{k} \\\\\n",
    "a & b & c \\\\\n",
    "r & s & t\n",
    "\\end{vmatrix}\n",
    "=\n",
    "\\hat{i}\\begin{vmatrix} b & c \\\\ s & t \\end{vmatrix} - \\hat{j}\\begin{vmatrix} a & c \\\\ r & t \\end{vmatrix} + \\hat{k}\\begin{vmatrix} a & b \\\\ r & s \\end{vmatrix}\n",
    "=\n",
    "(bt - sc, cr - at, as -br).\n",
    "$$\n",
    "\n",
    "Entonces basta con pedir al usuario que ingrese los vectores uno por uno, y luego simplemente aplicamos la última expresión para encontrar el vector resultante."
   ]
  },
  {
   "cell_type": "code",
   "execution_count": 1,
   "metadata": {},
   "outputs": [
    {
     "name": "stdout",
     "output_type": "stream",
     "text": [
      "Ingrese las entradas del vector (a,b,c) con el formato a b c\n"
     ]
    },
    {
     "name": "stdin",
     "output_type": "stream",
     "text": [
      ">  1 2 3\n",
      ">  4 5 6\n"
     ]
    },
    {
     "name": "stdout",
     "output_type": "stream",
     "text": [
      "(-3.0,6.0,-3.0)\n"
     ]
    }
   ],
   "source": [
    "print(\"Ingrese las entradas del vector (a,b,c) con el formato a b c\")\n",
    "\n",
    "vec1 = list(map(float,  input(\"> \").split()))   # Entradas del primer vector.\n",
    "vec2 = list(map(float,  input(\"> \").split()))   # Entradas del segundo vector.\n",
    "a = vec1[0]\n",
    "b = vec1[1]\n",
    "c = vec1[2]\n",
    "r = vec2[0]\n",
    "s = vec2[1]\n",
    "t = vec2[2]\n",
    "\n",
    "x = b * t - s * c       # Coordenada x del producto cruz.\n",
    "y = c * r - a * t       # Coordenada y del producto cruz.\n",
    "z = a * s - b * r       # Coordenada z del producto cruz.\n",
    "\n",
    "if len(vec1) == len(vec2) == 3:                 # Verifica que ambos vectores sean de R³.\n",
    "    print(f\"({x},{y},{z})\")\n",
    "else:\n",
    "    print('Ingrese vectores de R³.')"
   ]
  },
  {
   "cell_type": "markdown",
   "metadata": {},
   "source": [
    "## *Ejercicio 7*\n",
    "\n",
    "---\n",
    "---\n",
    "\n",
    "**a) Suma de dos vectores en $\\mathbb{R}^3$ introducidos por el usuario.**\n",
    "\n",
    "---\n",
    "\n",
    "Esta primera parte es sencilla, pues la suma de vectores se hace entrada por entrada; es decir, para $\\mathbb{R}^3$: \n",
    "\n",
    "$$\n",
    "\\overline{u} + \\overline{v} = (a,b,c) + (r,s,t) = (a + r, b + s, c + t).\n",
    "$$\n",
    "\n",
    "Entonces solo pedimos los vectores al usuario y aplicamos la expresión de arriba."
   ]
  },
  {
   "cell_type": "code",
   "execution_count": 2,
   "metadata": {},
   "outputs": [
    {
     "name": "stdout",
     "output_type": "stream",
     "text": [
      "Ingrese las entradas del vector (a,b,c) con el formato a b c\n"
     ]
    },
    {
     "name": "stdin",
     "output_type": "stream",
     "text": [
      ">  1 2 3\n",
      ">  9 8 7\n"
     ]
    },
    {
     "name": "stdout",
     "output_type": "stream",
     "text": [
      "(10.0,10.0,10.0)\n"
     ]
    }
   ],
   "source": [
    "print(\"Ingrese las entradas del vector (a,b,c) con el formato a b c\")\n",
    "\n",
    "vec1 = list(map(float,  input(\"> \").split()))   # Entradas del primer vector.\n",
    "vec2 = list(map(float,  input(\"> \").split()))   # Entradas del segundo vector.\n",
    "a = vec1[0]\n",
    "b = vec1[1]\n",
    "c = vec1[2]\n",
    "r = vec2[0]\n",
    "s = vec2[1]\n",
    "t = vec2[2]\n",
    "\n",
    "if len(vec1) == len(vec2) == 3:                 # Verifica que ambos vectores sean de R³.\n",
    "    print(f\"({a + r},{b + s},{c + t})\")\n",
    "else:\n",
    "    print('Ingrese vectores de R³.')"
   ]
  },
  {
   "cell_type": "markdown",
   "metadata": {},
   "source": [
    "**b) Suma de vectores en $\\mathbb{R}^n$**\n",
    "\n",
    "---\n",
    "\n",
    "Como los vectores se leerán de un archivo, este código tendrá diferencias considerables con los anteriores. Además, aquí se utilizarán métodos y funciones que se reusarán constantemente en ejercicios siguientes, entonces creo que lo más conveniente es explicarlas y definirlas aquí en detalle, y limitarnos a usarlas en instancias posteriores.\n",
    "\n",
    "Como trabajaremos con rutas de archivos, conviene importar las bibliotecas `sys` y `os`, en concreto `sys.argv` es importante para almacenar la ruta del archivo especificada por el usuario."
   ]
  },
  {
   "cell_type": "code",
   "execution_count": 6,
   "metadata": {},
   "outputs": [],
   "source": [
    "import sys\n",
    "import os"
   ]
  },
  {
   "cell_type": "markdown",
   "metadata": {},
   "source": [
    "Una parte fundamental en este proceso es tomar un *string* de números '1 2 47 3.1415', y convertirlo en una lista de flotantes para aplicar métodos numéricos. Una forma conveniente de lograrlo es usando el método `.split()` y la función nativa de Python `map()`:"
   ]
  },
  {
   "cell_type": "code",
   "execution_count": 7,
   "metadata": {},
   "outputs": [],
   "source": [
    "def floats(str):\n",
    "    return list(map(float, str.split()))"
   ]
  },
  {
   "cell_type": "markdown",
   "metadata": {},
   "source": [
    "`.split()` rompe un *string* que contenga algún separador (comas, espacios, etc.) en una secuencia de caracteres. El separador default es *espacio*. Luego, la función `map()` toma una *función* (primer argumento, en este caso float) y se la aplica a una secuencia de caracteres. Por último, usamos la función `list()` para almacenar los flotantes en una lista.\n",
    "\n",
    "Otra cosa importante tiene que ver con la lectura del archivo para obtener los vectores. Con el fin de hacerlo más amigable al usuario, podemos hacer que el programa ignore las líneas en blanco, y que la separación entre un número y otro dé igual; es decir, que sea lo mismos escribir *1 2* que *1        2*. <br>\n",
    "Para ello podemos definir una función que actúe sobre el *objeto archivo*:"
   ]
  },
  {
   "cell_type": "code",
   "execution_count": 8,
   "metadata": {},
   "outputs": [],
   "source": [
    "def nonempty_lines(f):\n",
    "    for l in f:\n",
    "        line = l.strip()\n",
    "        if line:\n",
    "            yield line"
   ]
  },
  {
   "cell_type": "markdown",
   "metadata": {},
   "source": [
    "Lo primero que hacemos es aplicar el método `.strip()` para eliminar el caracter *\\n* de cada línea, junto con los espacios al final del renglón. Si la línea está vacía, obtendremos `''` como resultado. Una vez hecho esto, podemos aprovechar el hecho de que Python asigna un valor booleano de *Falso* a un string vacío, o sea, evalúa `bool('')` como *False*. Entonces con esto logramos eliminar las líneas en blanco del objeto archivo. <br>\n",
    "Además aquí se una `yield` en lugar de `return`, que convierte a la función en un **generador**, una clase especial de iterable que solo puedes iterar una vez (los valores no se almacenan en la memoria), lo cual encaja bastante bien para leer un archivo.\n",
    "\n",
    "Ahora, para obtener la ruta del archivo, el usuario solo tiene que escribir la ruta en la terminal (después del nombre del *script*), ya sea relativa (al directorio donde está el *script*) o absoluta. Los argumentos que se escriben en la terminal se almacenan automáticamente en la **variable de argumentos** `argv`. "
   ]
  },
  {
   "cell_type": "code",
   "execution_count": 6,
   "metadata": {},
   "outputs": [
    {
     "name": "stdout",
     "output_type": "stream",
     "text": [
      "La ruta -f no existe. \n",
      "\n"
     ]
    }
   ],
   "source": [
    "path = sys.argv[1]\n",
    "# Almacena la ruta del archivo introducida por el usuario.\n",
    "# arg[0] es el nombre del script\n",
    "\n",
    "if not os.path.isfile(path):\n",
    "    print(f\"La ruta {path} no existe. \\n\")\n",
    "    exit()\n",
    "# Revisa que la ruta introducida sea válida."
   ]
  },
  {
   "cell_type": "markdown",
   "metadata": {},
   "source": [
    "Luego usamos `path.isfile`, que regresa un valor booleano dependiando de si el archivo existe en la ruta especificada. Si la ruta es inválida, se notifica al usuario.\n",
    "\n",
    "Una vez definido lo anterior, podemos proceder a leer el archivo y hacer la suma:"
   ]
  },
  {
   "cell_type": "code",
   "execution_count": null,
   "metadata": {},
   "outputs": [],
   "source": [
    "with open(path, \"r\") as f:\n",
    "    vecs = [floats(line) for line in nonempty_lines(f)]\n",
    "# Si la línea no está en blanco, transformamos sus elementos en una lista de\n",
    "# flotantes y la almacenamos en `vecs`.\n",
    "# Las entradas de cada vector deben estar separadas por espacios, y debe\n",
    "# haber un vector por renglón.\n",
    "\n",
    "gen = iter(vecs)\n",
    "if not all(len(vec) == len(vecs[0]) for vec in gen):\n",
    "    print(\"No todos los vectores tienen el mismo número de entradas. \\n\")\n",
    "    exit()\n",
    "# Esta condición verifica que todas las listas de `vecs` sean del mismo tamaño.\n",
    "# Si esto no se cumple, el condicional devuelve True y se aborta el proceso.\n",
    "# La lista con los vectores se convierte en un generador para agilizar el proceso.\n",
    "\n",
    "\n",
    "entries = []\n",
    "vecsum = []\n",
    "\n",
    "for i in range(len(vecs[0])):              # Dimensión de los vectores\n",
    "    for j in range(len(vecs)):             # Número de vectores\n",
    "        entries.append(vecs[j][i])\n",
    "\n",
    "    vecsum.append(sum(entries))\n",
    "    entries = []\n",
    "# Agrega la i-ésima entrada de cada vector a `entries`, y luego agrega la suma\n",
    "# de éstos a `vecsum`. Empezamos en la posición 0 de cada vector y agregamos\n",
    "# la suma de vecs[0][0], vecs[1][0],..., vecs[m][0] a `vecsum`; luego vaciamos\n",
    "# `entries` y nos movemos a la siguiente posición de cada vector.\n",
    "\n",
    "print('\\n', vecsum, '\\n')"
   ]
  },
  {
   "cell_type": "markdown",
   "metadata": {},
   "source": [
    "De hecho, el programa de arriba funciona para sumar un número arbitrario de vectores, por lo que podríamos especificar un archivo con 50 vectores (uno por renglón) y obtener su suma automáticamente.\n",
    "\n",
    "## *Ejercicio 8*\n",
    "\n",
    "---\n",
    "---\n",
    "\n",
    "**a) Calcular el producto punto de dos vectores en $\\mathbb{R}^3$ definidos por el usuario**\n",
    "\n",
    "---\n",
    "\n",
    "En $\\mathbb{R}^3$, el producto punto entre dos vectores $\\overline{u} = (a,b,c)$ y $\\overline{v} = (r,s,t)$ está dado por:\n",
    "\n",
    "$$\n",
    "\\overline{u}\\cdot\\overline{v} = ar + bs + ct.\n",
    "$$\n",
    "\n",
    "Que es un número real. Entonces simplemente pedimos los vectores y traducimos la expresión de arriba a código:"
   ]
  },
  {
   "cell_type": "code",
   "execution_count": 2,
   "metadata": {},
   "outputs": [
    {
     "name": "stdout",
     "output_type": "stream",
     "text": [
      "Ingrese las entradas del vector (a,b,c) con el formato a b c\n"
     ]
    },
    {
     "name": "stdin",
     "output_type": "stream",
     "text": [
      ">  15 24 3.141592\n",
      ">  27 42 2.71\n"
     ]
    },
    {
     "name": "stdout",
     "output_type": "stream",
     "text": [
      "1421.51371432 \n",
      "\n"
     ]
    }
   ],
   "source": [
    "print(\"Ingrese las entradas del vector (a,b,c) con el formato a b c\")\n",
    "\n",
    "def floats(str):\n",
    "    return list(map(float, str.split()))\n",
    "# Toma un string de números separados por espacios (\"1 2 3 4\") y devuelve una\n",
    "# lista de flotantes [1, 2, 3, 4].\n",
    "\n",
    "\n",
    "vec1 = floats(input(\"> \"))   # Entradas del primer vector.\n",
    "vec2 = floats(input(\"> \"))   # Entradas del segundo vector.\n",
    "a = vec1[0]\n",
    "b = vec1[1]\n",
    "c = vec1[2]\n",
    "r = vec2[0]\n",
    "s = vec2[1]\n",
    "t = vec2[2]\n",
    "\n",
    "if len(vec1) == len(vec2) == 3:         # Verifica que ambos vectores sean de R³.\n",
    "    print(a * r + b * s + c * t, '\\n')  # Definición de producto punto.\n",
    "else:\n",
    "    print('Ingrese vectores de R³. \\n')"
   ]
  },
  {
   "cell_type": "markdown",
   "metadata": {},
   "source": [
    "**b) Calcular el producto punto de dos vectores en $\\mathbb{R}^n$**\n",
    "\n",
    "Simplemente generalizamos lo anterior. En general, el producto punto de dos vectores $\\overline{x} = (x_1,x_2,\\ldots,x_n)$ y $\\overline{y} = (y_1,y_2,\\ldots,y_n)$ está dado por:\n",
    "\n",
    "$$\n",
    "\\overline{x}\\cdot\\overline{y} = \\sum_{i=1}^{n}x_iy_i.\n",
    "$$\n",
    "\n",
    "O sea, la misma expresión que antes, pero con más coordenadas. Combinando esto con las técnicas de lectura de archivos que se emplearon en el ejercicio y b), nos queda:"
   ]
  },
  {
   "cell_type": "code",
   "execution_count": null,
   "metadata": {},
   "outputs": [],
   "source": [
    "path = sys.argv[1]\n",
    "# Almacena la ruta del archivo introducida por el usuario.\n",
    "# argv[0] siempre es el nombre del script.\n",
    "\n",
    "if not os.path.isfile(path):\n",
    "    print(f\"La ruta {path} no existe. \\n\")\n",
    "    exit()\n",
    "# Revisa que la ruta introducida sea válida.\n",
    "\n",
    "with open(path, \"r\") as f:\n",
    "    vecs = []\n",
    "    for line in nonempty_lines(f):\n",
    "        if len(vecs) < 2:\n",
    "            vecs.append(floats(line))\n",
    "# Agregamos a la lista los primeros dos renglones que no están en blanco; o sea,\n",
    "# los dos vectores deben estar uno tras otro (sin contar líneas en blanco).\n",
    "# El contenido de las líneas posteriores al segundo vector es irrelevante.\n",
    "\n",
    "\n",
    "vec1 = vecs[0]\n",
    "vec2 = vecs[1]\n",
    "\n",
    "if len(vec1) == len(vec2):      # Ambos vectores deben ser del mismo tamaño.\n",
    "    dot_prod = 0\n",
    "    for n in range(len(vec1)):\n",
    "        dot_prod = dot_prod + vec1[n] * vec2[n]\n",
    "# Sumamos recursivamente el producto de las entradas correspondientes de\n",
    "# ambos vectores.\n",
    "\n",
    "    print(dot_prod, '\\n')\n",
    "\n",
    "else:\n",
    "    print(\"Verifique que ambos vectores sean del mismo tamaño. \\n\")"
   ]
  },
  {
   "cell_type": "markdown",
   "metadata": {},
   "source": [
    "La única diferencia es que en este caso necesitamos *exactamente dos vectores*, pues el producto punto solo está definido para dos de ellos.\n",
    "\n",
    "## *Ejercicio 9*\n",
    "\n",
    "---\n",
    "---\n",
    "\n",
    "**a) Sumar dos matrices en $\\mathbb{R}^{2 \\times 2}$ introducidas por el usuario.**\n",
    "\n",
    "---\n",
    "\n",
    "Al igual que los vectores, las matrices se suman entrada por entrada. Para $A = \\bigl(\\begin{smallmatrix} a & b \\\\ c & d \\end{smallmatrix}\\bigr)$ y $B = \\bigl(\\begin{smallmatrix} \\alpha & \\beta \\\\ \\gamma & \\delta \\end{smallmatrix}\\bigr)$ quedaría:\n",
    "\n",
    "$$\n",
    "A + B =\n",
    "\\begin{pmatrix}\n",
    "a + \\alpha & b + \\beta \\\\\n",
    "c + \\gamma & d + \\delta\n",
    "\\end{pmatrix}.\n",
    "$$\n",
    "\n",
    "Lo más sencillo es pedirle al usuario que ingrese las matrices renglón por renglón."
   ]
  },
  {
   "cell_type": "code",
   "execution_count": 5,
   "metadata": {},
   "outputs": [
    {
     "name": "stdout",
     "output_type": "stream",
     "text": [
      "Ingrese los renglones de las matrices con el formato a b\n"
     ]
    },
    {
     "name": "stdin",
     "output_type": "stream",
     "text": [
      "Renglón 1:  1 2\n",
      "Renglón 2:  3 4\n",
      "\n",
      " Renglón 1:  47 28\n",
      " Renglón 2:  9 4.1057\n"
     ]
    },
    {
     "name": "stdout",
     "output_type": "stream",
     "text": [
      "[48.0, 6.1057]\n",
      "[12.0, 8.105699999999999]\n"
     ]
    }
   ],
   "source": [
    "print(\"Ingrese los renglones de las matrices con el formato a b\")\n",
    "\n",
    "def floats(str):\n",
    "    return list(map(float, str.split()))\n",
    "\n",
    "Ar1 = floats(input(\"Renglón 1: \"))\n",
    "Ar2 = floats(input(\"Renglón 2: \"))\n",
    "Br1 = floats(input(\"\\n Renglón 1: \"))\n",
    "Br2 = floats(input(\" Renglón 2: \"))\n",
    "# Obtenemos cada renglón individualmente.\n",
    "\n",
    "if len(Ar1) == len(Ar2) == len(Br1) == len(Br2) == 2:\n",
    "    sumR1 = [Ar1[0] + Br1[0], Ar1[1] + Br2[1]]\n",
    "    sumR2 = [Ar2[0] + Br2[0], Ar2[1] + Br2[1]]\n",
    "# Revisamos que las matrices sean de 2x2.\n",
    "\n",
    "    print(sumR1)\n",
    "    print(sumR2)\n",
    "\n",
    "else:\n",
    "    print(\"Ingrese renglones de dos elementos. \\n\")"
   ]
  },
  {
   "cell_type": "markdown",
   "metadata": {},
   "source": [
    "**b) Suma de dos matrices en $\\mathbb{R}^{m\\times n}$.**\n",
    "\n",
    "De nuevo, es una generalización de lo anterior. Para $A_{m\\times n} = ||\\alpha_{ij}||$ y $B_{m\\times n} = ||\\beta_{ij}||$, $A + B = ||\\alpha_{ij} + \\beta_{ij}||$. <br>\n",
    "Aplicaremos las mismas técnicas de lectura de archivos que en ejercicios pasados, pero en este caso habrá una pequeña diferencia. Para que la suma esté definida, ambas matrices deben tener el mismo número tanto de filas como de columnas; conviene tenerlas ambas matrices en un solo archivo para verificar la dimensión de todos los renglones al mismo tiempo. Una vez hecho esto, notemos que si las matrices son válidas, el número de renglones debe ser par (pues si las matrices tienen $m$ renglones, el archivo tendría $2m$ líneas no vacías).\n",
    "\n",
    "Entonces, si tenemos $k$ elementos en la lista de los renglones, a la primera matriz le corresponden los primeros $\\frac{k}{2}$ renglones."
   ]
  },
  {
   "cell_type": "code",
   "execution_count": null,
   "metadata": {},
   "outputs": [],
   "source": [
    "path = sys.argv[1]\n",
    "\n",
    "if not os.path.isfile(path):\n",
    "    print(f\"La ruta {path} no existe. \\n\")\n",
    "    exit()\n",
    "# Validamos la ruta.\n",
    "\n",
    "\n",
    "with open(path, \"r\") as f:\n",
    "    rows = [floats(line) for line in nonempty_lines(f)]\n",
    "# Obtenemos las filas, recordando que ambas matrices están en el mismo archivo.\n",
    "\n",
    "gen = iter(rows)\n",
    "if len(rows) % 2 != 0 or not all(len(vec) == len(rows[0]) for vec in gen):\n",
    "    print(\"Las matrices no tienen la misma dimensión\")\n",
    "    exit()\n",
    "# La primera condición verifica que ambas matrices tengan el mismo número de\n",
    "# renglones, y la segunda que dichos renglones tengan la misma longitud.\n",
    "\n",
    "last = len(rows) // 2\n",
    "\n",
    "matr1 = rows[0:last]\n",
    "matr2 = rows[last:len(rows) + 1]\n",
    "# Separamos las matrices, recordando que si tienen el mismo número de filas,\n",
    "# La primera matriz acaba exactamente a la mitad de la lista.\n",
    "\n",
    "row = []\n",
    "matrsum = []\n",
    "\n",
    "for i in range(len(matr1)):\n",
    "    for j in range(len(matr1[0])):\n",
    "        row.append(matr1[i][j] + matr2[i][j])\n",
    "    matrsum.append(row)\n",
    "    row = []\n",
    "# Sumamos los elementos correspondientes de ambas matrices. (entrada por entrada)\n",
    "\n",
    "for i in range(len(matrsum)):\n",
    "    print(matrsum[i])"
   ]
  },
  {
   "cell_type": "markdown",
   "metadata": {},
   "source": [
    "## *Ejercicio 10*\n",
    "\n",
    "---\n",
    "---\n",
    "\n",
    "**a) Producto de una matriz en $\\mathbb{R}^{m\\times n}$ por un vector de $\\mathbb{R}^n$.**\n",
    "\n",
    "---\n",
    "\n",
    "Para que dicho producto sea válido, la dimensión de los vectores renglón (número de columnas) de la matriz debe ser igual a la dimensión del vector por el que se quiere multiplicar. Si se satisface dicha condición, denotando $\\overline{x} = (x_1,x_2,\\ldots,x_n)$ y $\\overline{u}_i = (a_{i1},a_{i2},\\ldots,a_{in})$, el producto está dado por:\n",
    "\n",
    "$$\n",
    "\\begin{pmatrix}\n",
    "a_{11} & a_{12} & \\ldots & a_{1n} \\\\\n",
    "a_{21} & a_{22} & \\ldots & a_{2n} \\\\\n",
    "\\vdots & \\vdots & \\ddots & \\vdots \\\\\n",
    "a_{m1} & a_{m2} & \\ldots & a_{mn}\n",
    "\\end{pmatrix}\n",
    "%\n",
    "\\begin{pmatrix}\n",
    "x_1 \\\\\n",
    "x_2 \\\\\n",
    "\\vdots \\\\\n",
    "x_n\n",
    "\\end{pmatrix}\n",
    "=\n",
    "\\begin{pmatrix}\n",
    "\\overline{u}_1\\cdot\\overline{x} \\\\\n",
    "\\overline{u}_2\\cdot\\overline{x} \\\\\n",
    "\\vdots \\\\\n",
    "\\overline{u}_m\\cdot\\overline{x} \\\\\n",
    "\\end{pmatrix}.\n",
    "$$\n",
    "\n",
    "En este caso, el vector y la matriz estarán en el mismo archivo, siendo el vector el primer renglón no vacío del archivo. También podemos auxiliarnos del ejercicio de producto punto que hicimos antes."
   ]
  },
  {
   "cell_type": "code",
   "execution_count": 9,
   "metadata": {},
   "outputs": [],
   "source": [
    "def dot(vec1, vec2):\n",
    "    dot_prod = 0\n",
    "    for n in range(len(vec1)):\n",
    "        dot_prod = dot_prod + vec1[n] * vec2[n]\n",
    "    return dot_prod\n",
    "# Nos saltamos la verificación de que los vectores sean de la misma\n",
    "# dimensión, pues esto se realiza más adelante en el programa.\n",
    "\n",
    "path = sys.argv[1]\n",
    "\n",
    "\n",
    "if not os.path.isfile(path):\n",
    "    print(f\"La ruta {path} no existe. \\n\")\n",
    "    exit()\n",
    "# Revisamos que la ruta introducida sea válida.\n",
    "\n",
    "with open(path, \"r\") as f:\n",
    "    matrx = [floats(line) for line in nonempty_lines(f)]\n",
    "# Leemos la matriz.\n",
    "\n",
    "gen = iter(matrx)\n",
    "if not all(len(vec) == len(matrx[0]) for vec in gen):\n",
    "    print(\"Revise que la matriz y el vector sean de la forma (m x n) (n x 1)\")\n",
    "    exit()\n",
    "# Verificamos que todos los renglones tengan la misma longitud.\n",
    "\n",
    "vec = matrx[0]\n",
    "del(matrx[0])\n",
    "# El vector por el que vamos a multiplicar es la primera línea del archivo;\n",
    "# almacenamos su valor y lo borramos de la lista para dejar solo la matriz.\n",
    "\n",
    "prod = [dot(vec,row) for row in matrx]\n",
    "print('\\n', prod, '\\n')"
   ]
  },
  {
   "cell_type": "markdown",
   "metadata": {},
   "source": [
    "**b) Producto de Matrices.**\n",
    "\n",
    "---\n",
    "\n",
    "Esto es una generalización del ejercicio anterior. Para que el producto entre dos matrices $A, B$ esté definido, el número de columnas de la primera debe ser igual al número de renglones de la segunda; es decir, $A\\in\\mathbb{R}^{m\\times n}$ y $B\\in\\mathbb{R}^{n\\times p}$. Si es el caso, denotando $\\overline{u}_i = (a_{i1},a_{i2},\\ldots,a_{in})$ y $\\overline{v}_j = (b_{1j},b_{2j},\\ldots,a_{nj})$, el producto $AB$ está dado por:\n",
    "\n",
    "$$\n",
    "\\begin{pmatrix}\n",
    "a_{11} & a_{12} & \\ldots & a_{1n} \\\\\n",
    "a_{21} & a_{22} & \\ldots & a_{2n} \\\\\n",
    "\\vdots & \\vdots & \\ddots & \\vdots \\\\\n",
    "a_{m1} & a_{m2} & \\ldots & a_{mn}\n",
    "\\end{pmatrix}\n",
    "%\n",
    "\\begin{pmatrix}\n",
    "b_{11} & b_{12} & \\ldots & b_{1p} \\\\\n",
    "b_{21} & b_{22} & \\ldots & b_{2p} \\\\\n",
    "\\vdots & \\vdots & \\ddots & \\vdots \\\\\n",
    "b_{n1} & b_{n2} & \\ldots & b_{np}\n",
    "\\end{pmatrix}\n",
    "=\n",
    "\\begin{pmatrix}\n",
    "\\overline{u}_1\\cdot\\overline{v}_1 & \\overline{u}_1\\cdot\\overline{v}_2  & \\ldots & \\overline{u}_1\\cdot\\overline{v}_p  \\\\\n",
    "\\overline{u}_2\\cdot\\overline{v}_1 & \\overline{u}_2\\cdot\\overline{v}_2  & \\ldots & \\overline{u}_2\\cdot\\overline{v}_p  \\\\\n",
    "\\vdots & \\vdots & \\ddots & \\vdots \\\\\n",
    "\\overline{u}_m\\cdot\\overline{v}_1 & \\overline{u}_m\\cdot\\overline{v}_2  & \\ldots & \\overline{u}_m\\cdot\\overline{v}_p  \\\\\n",
    "\\end{pmatrix}.\n",
    "$$\n",
    "\n",
    "En este caso se tendrán las matrices en archivos separados. También necesitamos un método para recuperar las columnas de la segunda matriz, que procederemos a definir:"
   ]
  },
  {
   "cell_type": "code",
   "execution_count": 10,
   "metadata": {},
   "outputs": [],
   "source": [
    "def columns(matrx):\n",
    "    columns = []\n",
    "    column = []\n",
    "    for j in range(len(matrx[0])):       # Longitud del renglón\n",
    "        for i in range(len(matrx)):      # Número de renglones\n",
    "            column.append(matrx[i][j])\n",
    "        columns.append(column)\n",
    "        column = []\n",
    "    return columns\n",
    "# Fijamos el número de columna (j) y nos movemos por los renglones, agregando\n",
    "# a la lista matrx[1][j], matrx[2][j],..., matrx[m][j]. Al terminar tendremos\n",
    "# la columna completa, y simplemente la agregamos a la lista de columnas antes\n",
    "# de pasar a la columna j+1."
   ]
  },
  {
   "cell_type": "markdown",
   "metadata": {},
   "source": [
    "Ahora podemos leer los archivos como de costumbre, y verificar que el producto entre las matrices tenga sentido:"
   ]
  },
  {
   "cell_type": "code",
   "execution_count": null,
   "metadata": {},
   "outputs": [],
   "source": [
    "path1 = sys.argv[1]\n",
    "path2 = sys.argv[2]\n",
    "\n",
    "if not os.path.isfile(path1):\n",
    "    print(f\"La ruta {path1} no existe. \\n\")\n",
    "    exit()\n",
    "\n",
    "if not os.path.isfile(path2):\n",
    "    print(f\"La ruta {path2} no existe. \\n\")\n",
    "    exit()\n",
    "# Verificamos que los archivos existan.\n",
    "\n",
    "\n",
    "with open(path1, \"r\") as f:\n",
    "    matrx1 = [floats(line) for line in nonempty_lines(f)]\n",
    "\n",
    "with open(path2, \"r\") as f:\n",
    "    matrx2 = [floats(line) for line in nonempty_lines(f)]\n",
    "# Leemos los archivos para obtener las matrices.\n",
    "\n",
    "\n",
    "gen1 = iter(matrx1)\n",
    "gen2 = iter(matrx2)\n",
    "if not all(len(row) == len(matrx1[0]) for row in gen1):\n",
    "    print(\"Revise que los renglones de la matriz 1 sean del mismo tamaño.\")\n",
    "    exit()\n",
    "elif not all(len(row) == len(matrx2[0]) for row in gen2):\n",
    "    print(\"Revise que los renglones de la matriz 2 sean del mismo tamaño.\")\n",
    "    exit()\n",
    "elif len(matrx1[0]) != len(matrx2):\n",
    "    print(\"Revise que las matrices sean de la forma (m x n) (n x p).\")\n",
    "    exit()\n",
    "# Revisamos que sean matrices bien definidas, y que puedan multiplicarse."
   ]
  },
  {
   "cell_type": "markdown",
   "metadata": {},
   "source": [
    "En el último condicional, `matrx1[0]` es el primer renglón de la primera matriz y `len(matrx2)` es el número de renglones de la segunda matriz."
   ]
  },
  {
   "cell_type": "code",
   "execution_count": null,
   "metadata": {},
   "outputs": [],
   "source": [
    "columns = columns(matrx2)\n",
    "prodmatrx = []\n",
    "row = []\n",
    "\n",
    "for i in range(len(matrx1)):\n",
    "    for j in range(len(columns)):\n",
    "        row.append(dot(matrx1[i], columns[j]))\n",
    "    prodmatrx.append(row)\n",
    "    row = []\n",
    "# Fijamos el renglón (i) de la primera matriz, y tomamos su producto punto con\n",
    "# cada columna de la segunda matriz. La fila resultante es la i-ésima fila del\n",
    "# producto de ambas.\n",
    "\n",
    "for i in range(len(prodmatrx)):\n",
    "    print(prodmatrx[i])"
   ]
  },
  {
   "cell_type": "markdown",
   "metadata": {},
   "source": [
    "## *Ejercicio 11*\n",
    "\n",
    "---\n",
    "---\n",
    "\n",
    "**a) Calcular una recta de valores en cierto intervalo**\n",
    "\n",
    "---\n",
    "\n",
    "Una recta (no vertical) es una función lineal $f: \\mathbb{R}\\to\\mathbb{R}$ de la forma $f(x) = mx + b$, donde $m$ es la pendiente, que determina el nivel de inclinación de la recta, y $b$ es el punto de intersección de la recta con el eje $Y$. Entonces, lo que queremos es graficar los puntos de la forma $(x, mx + b)$ en cierto intervalo con los parámetros establecidos por el usuario. <br>\n",
    "Una forma sencilla de establecer el intervalo de puntos a graficar es con la función `linspace()` de **numpy**, que toma dos números como argumento y genera cierta cantidad de puntos entre ambos, distribuidos uniformemente (el default son 50 puntos). Una vez establecido el intervalo, podemos calcular los puntos y hacer lo que queramos con ellos, por ejemplo escribirlos a un archivo, o graficarlos directamente."
   ]
  },
  {
   "cell_type": "code",
   "execution_count": 2,
   "metadata": {},
   "outputs": [
    {
     "name": "stdin",
     "output_type": "stream",
     "text": [
      "Pendiente:  -1\n",
      "Intersección con eje Y:  2\n",
      "Límite izquierdo:  -10\n",
      "Límite derecho:  10\n"
     ]
    },
    {
     "data": {
      "image/png": "[encoded data removed]",
      "text/plain": [
       "<Figure size 432x288 with 1 Axes>"
      ]
     },
     "metadata": {
      "needs_background": "light"
     },
     "output_type": "display_data"
    }
   ],
   "source": [
    "import numpy as np\n",
    "import matplotlib.pyplot as plt\n",
    "\n",
    "m = float(input(\"Pendiente: \"))\n",
    "b = float(input(\"Intersección con eje Y: \"))\n",
    "inf = float(input(\"Límite izquierdo: \"))\n",
    "sup = float(input(\"Límite derecho: \"))\n",
    "# Pedimos al usuario los parámetros necesarios para una función de la forma\n",
    "# f(x) = mx + b, así como el intervalo a graficar.\n",
    "\n",
    "x = np.linspace(inf, sup)\n",
    "# Generamos un rango uniforme de valores para x entre los límites especificados.\n",
    "y = m * x + b\n",
    "# Valores y correspondientes.\n",
    "lenght = range(len(x))\n",
    "\n",
    "with open('lineales.csv', 'w') as f:\n",
    "    f.write('X,Y\\n')\n",
    "    f.write('\\n'.join('{},{}'.format(x[i], y[i]) for i in lenght))\n",
    "# Guardamos los pares (x,y) en un archivo, un par por renglón. De esta forma\n",
    "# obtenemos una columna para 'x' y otra para 'y'.\n",
    "\n",
    "plt.plot(x, y)\n",
    "# Graficamos x vs y.\n",
    "\n",
    "plt.xlabel(\"x\")\n",
    "plt.ylabel(\"mx + b\")\n",
    "plt.title(\"Función lineal\")\n",
    "# Etiquetas.\n",
    "\n",
    "plt.tight_layout()\n",
    "\n",
    "plt.show()\n",
    "# Mostramos la gráfica"
   ]
  },
  {
   "cell_type": "markdown",
   "metadata": {},
   "source": [
    "**b) Calcular una parábola de valores en cierto intervalo.**\n",
    "\n",
    "---\n",
    "\n",
    "Este problema es muy parecido al anterior; de hecho la estructura del programa es casi idéntica, lo único que cambia es la función con la que estamos trabajando. En general, una parábola que NO ha sido rotada en el plano está descrita por una función cuadrática de la forma $f(x) = \\frac{1}{4c}(x-h)^2 + k$, donde el vértice de la parábola tiene coordenadas $(h,k)$ y el foco está dado por $(h,k+c)$. Si $c>0$, la parábola se abre hacia arriba, y si $c<0$ se abre hacia abajo. ($c = 0$ no es una parábola.)\n",
    "\n",
    "Entonces simplemente pedimos los parámetros al usuario y calculamos los puntos de la forma $(x,f(x))$:"
   ]
  },
  {
   "cell_type": "code",
   "execution_count": 4,
   "metadata": {},
   "outputs": [
    {
     "name": "stdin",
     "output_type": "stream",
     "text": [
      "Ingrese el vértice (h,k) como h k:   1 2\n",
      "Distancia del foco al vértice:  -2\n",
      "Límite izquierdo:  -10\n",
      "Límite derecho:  10\n"
     ]
    },
    {
     "data": {
      "image/png": "[encoded data removed]",
      "text/plain": [
       "<Figure size 432x288 with 1 Axes>"
      ]
     },
     "metadata": {
      "needs_background": "light"
     },
     "output_type": "display_data"
    }
   ],
   "source": [
    "import numpy as np\n",
    "import matplotlib.pyplot as plt\n",
    "\n",
    "def floats(str):\n",
    "    return list(map(float, str.split()))\n",
    "\n",
    "vert = floats(input(\"Ingrese el vértice (h,k) como h k:  \"))\n",
    "c = float(input(\"Distancia del foco al vértice: \"))\n",
    "if c == 0:\n",
    "    print(\"La distancia debe ser distinta de cero.\")\n",
    "    exit()\n",
    "# Parámetros de la ecuación cuadrática.\n",
    "h = vert[0]\n",
    "k = vert[1]\n",
    "\n",
    "inf = float(input(\"Límite izquierdo: \"))\n",
    "sup = float(input(\"Límite derecho: \"))\n",
    "# Límites del intervalo a graficar.\n",
    "\n",
    "x = np.linspace(inf, sup)\n",
    "y = (x - h) ** 2 / (4 * c) + k\n",
    "lenght = range(len(x))\n",
    "# Si se introduce un intervalo con inf > sup, las x se graficarán en el\n",
    "# intervalo [sup, inf]\n",
    "\n",
    "with open('cuadrados.csv', 'w') as f:\n",
    "    f.write('X,Y\\n')\n",
    "    f.write('\\n'.join('{},{}'.format(x[i], y[i]) for i in lenght))\n",
    "\n",
    "plt.plot(x, y)\n",
    "\n",
    "plt.xlabel('x')\n",
    "plt.ylabel('f(x)')\n",
    "plt.title('f(x) = (1/4c)(x - h)² + k')\n",
    "\n",
    "plt.tight_layout()\n",
    "\n",
    "plt.show()"
   ]
  },
  {
   "cell_type": "markdown",
   "metadata": {},
   "source": [
    "## *Ejercicio 12*\n",
    "\n",
    "---\n",
    "---\n",
    "\n",
    "**a) Calcular los datos de un movimiento rectilíneo uniforme en un intervalo $[t_0, t_f]$ definido por el usuario.**\n",
    "\n",
    "---\n",
    "\n",
    "Por simplicidad, se medirá el movimiento de tal manera que sea unidimensional. Como su nombre lo indica, el movimiento rectilíneo uniforme describe una trayectoria en línea recta, a velocidad constante ($\\overline{v}(t) = \\mathrm{cte}$). Denotando $x$ a la dimensión del movimiento, las ecuaciones que lo describen son:\n",
    "\n",
    "\\begin{align*}\n",
    "\\overline{a}(t) &= \\frac{\\mathrm{d}\\overline{v}(t)}{\\mathrm{d}t} = 0 \\\\\n",
    "\\overline{v}(t) &= \\mathrm{cte}  \\\\\n",
    "\\overline{x}(t) &= \\int \\overline{v}(t) \\mathrm{d}t = \\overline{v}t + x_0.\n",
    "\\end{align*}\n",
    "\n",
    "Donde $x_0$ es la posición inicial. Entonces lo único que el usuario debe especificar es la velocidad, la posición inicial, y el intervalo de tiempo en el que desea graficar. (obviamente los tiempos deben ser valores no negativos)."
   ]
  },
  {
   "cell_type": "code",
   "execution_count": 7,
   "metadata": {},
   "outputs": [
    {
     "name": "stdin",
     "output_type": "stream",
     "text": [
      "Velocidad(m/s):  17\n",
      "Posición inicial:  0\n",
      "Ingrese el intervalo [t0, tf] (s) como t0 tf:  0 10\n"
     ]
    },
    {
     "data": {
      "image/png": "[encoded data removed]",
      "text/plain": [
       "<Figure size 432x288 with 1 Axes>"
      ]
     },
     "metadata": {
      "needs_background": "light"
     },
     "output_type": "display_data"
    }
   ],
   "source": [
    "import numpy as np\n",
    "import matplotlib.pyplot as plt\n",
    "\n",
    "def floats(str):\n",
    "    return list(map(float, str.split()))\n",
    "\n",
    "vel = float(input(\"Velocidad(m/s): \"))\n",
    "init = float(input(\"Posición inicial: \"))\n",
    "# Parámetros necesarios.\n",
    "\n",
    "interval = floats(input(\"Ingrese el intervalo [t0, tf] (s) como t0 tf: \"))\n",
    "t0 = interval[0]\n",
    "tf = interval[1]\n",
    "\n",
    "if t0 < 0 or tf < 0:\n",
    "    print(\"Ingrese tiempos válidos.\")\n",
    "    exit()\n",
    "# Parámetros necesarios para las ecuaciones de movimiento. El tiempo debe ser\n",
    "# no negativo (a menos que seas hackerman o.O)\n",
    "\n",
    "t = np.linspace(t0, tf)\n",
    "lenght = range(len(t))\n",
    "# Intervalo a graficar.\n",
    "\n",
    "pos = vel * t + init\n",
    "v = np.array([vel for i in lenght])\n",
    "a = np.array([0 for i in lenght])\n",
    "# Desplazamiento, velocidad y aceleración en movimiento rectilíneo uniforme.\n",
    "\n",
    "with open('uniform.csv', 'w') as f:\n",
    "    f.write('Tiempo,Posición,Velocidad,Aceleración\\n')\n",
    "    f.write('\\n'.join('{},{},{},0'.format(t[i], pos[i], vel) for i in lenght))\n",
    "# Datos del movimient, separados por columnas.\n",
    "\n",
    "plt.plot(t, pos, color='#222288', label='Posición (m)')\n",
    "plt.plot(t, v, color='#ffd700', linestyle='-.', label='Velocidad (m/s)')\n",
    "plt.plot(t, a, color='#329932', linestyle='--', label='Aceleración (m/s²)')\n",
    "# Gráficas del movimiento respecto al tiempo.\n",
    "\n",
    "plt.xlabel(\"Tiempo\")\n",
    "plt.ylabel(\"Unidades respectivas\")\n",
    "plt.title(\"Movimiento Rectilíneo Uniforme\")\n",
    "\n",
    "plt.legend()\n",
    "plt.tight_layout()\n",
    "\n",
    "plt.show()"
   ]
  },
  {
   "cell_type": "markdown",
   "metadata": {},
   "source": [
    "**b) Calcular los datos de un movimiento uniformemente acelerado en un intervalo $[t_0, t_f]$ definido por el usuario.**\n",
    "\n",
    "---\n",
    "\n",
    "En cuanto a estrctura, este programa es casi idéntico al anterior, solo que cambiamos las ecuaciones de movimiento que estamos utilizando. De nuevo se asumirá que el movimiento uniformemente acelerado es unidimensional. Entonces, si denotamos como $x$ a la dirección del movimiento, las ecuaciones que lo describen están dadas por:\n",
    "\n",
    "\\begin{align*}\n",
    "\\overline{a}(t) &= \\mathrm{cte} \\\\\n",
    "\\overline{v}(t) &= \\int \\overline{a}(t) \\mathrm{d}t = \\overline{a}t + v_0 \\\\\n",
    "\\overline{x}(t) &= \\int \\overline{v}(t) \\mathrm{d}t =\\frac{1}{2}\\overline{a}t^2 + v_0t + x_0.\n",
    "\\end{align*}\n",
    "\n",
    "Entonces, como parámetros iniciales, necesitamos la aceleración, la velocidad inicial y la posición inicial; además del intervalo de tiempo en el que se quiere graficar."
   ]
  },
  {
   "cell_type": "code",
   "execution_count": 11,
   "metadata": {},
   "outputs": [
    {
     "name": "stdin",
     "output_type": "stream",
     "text": [
      "Aceleración (m/s²):  5\n",
      "Velocidad Inicial (m/s):  25\n",
      "Posición inicial:  0\n",
      "Ingrese el intervalo [t0, tf] (S) como t0 tf:  0 10\n"
     ]
    },
    {
     "data": {
      "image/png": "[encoded data removed]",
      "text/plain": [
       "<Figure size 432x288 with 1 Axes>"
      ]
     },
     "metadata": {
      "needs_background": "light"
     },
     "output_type": "display_data"
    }
   ],
   "source": [
    "import numpy as np\n",
    "import matplotlib.pyplot as plt\n",
    "\n",
    "def floats(str):\n",
    "    return list(map(float, str.split()))\n",
    "\n",
    "acc = float(input(\"Aceleración (m/s²): \"))\n",
    "v_init = float(input(\"Velocidad Inicial (m/s): \"))\n",
    "p_init = float(input(\"Posición inicial: \"))\n",
    "\n",
    "interval = floats(input(\"Ingrese el intervalo [t0, tf] (S) como t0 tf: \"))\n",
    "t0 = interval[0]\n",
    "tf = interval[1]\n",
    "\n",
    "if t0 < 0 or tf < 0:\n",
    "    print(\"Ingrese tiempos válidos.\")\n",
    "    exit()\n",
    "\n",
    "t = np.linspace(t0, tf)\n",
    "lenght = range(len(t))\n",
    "\n",
    "a = np.array([acc for i in lenght])\n",
    "vel = acc * t + v_init\n",
    "pos = acc * t ** 2 / 2 + v_init * t + p_init\n",
    "# Aceleración, velocidad y desplazamiento en movimiento uniformemente acelerado.\n",
    "\n",
    "with open('freefall.csv', 'w') as f:\n",
    "    f.write('Tiempo,Posición,Velocidad,Aceleración\\n')\n",
    "    f.write('\\n'.join('{},{},{},{}'.format(t[i], pos[i], vel[i], acc)\n",
    "            for i in lenght))\n",
    "# Datos del movimiento separados por columnas.\n",
    "\n",
    "plt.plot(t, pos, color='#222288', label='Posición (m)')\n",
    "plt.plot(t, vel, color='#ffd700', linestyle='-.', label='Velocidad (m/s)')\n",
    "plt.plot(t, a, color='#329932', linestyle='--', label='Aceleración (m/s²)')\n",
    "# Graficas del movimiento respecto al tiempo.\n",
    "\n",
    "plt.xlabel(\"Tiempo\")\n",
    "plt.ylabel(\"Unidades respectivas\")\n",
    "plt.title(\"Movimiento Uniformemente Acelerado\")\n",
    "\n",
    "plt.legend()\n",
    "plt.tight_layout()\n",
    "\n",
    "plt.show()"
   ]
  },
  {
   "cell_type": "markdown",
   "metadata": {},
   "source": [
    "**c) Calcular los datos de un tiro parabólico en un intervalo $[t_0, t_f] $ definido por el usuario.**\n",
    "\n",
    "---\n",
    "\n",
    "Por último, este problema es básicamente una combinación de los dos anteriores, pues si hacemos las simplificaciones habituales (la resistencia del aire no existe y el proyectil es esférico), el tiro parabólico puede modelarse como un movimiento en dos dimensiones, donde el movimiento en $x$ (horizontal) es rectilíneo uniforme y el movimiento en $y$ (vertical) es uniformemente acelerado (por el campo gravitatorio). \n",
    "\n",
    "En este caso también es necesario conocer la velocidad inicial $V_0$ del proyectil (que debe ser mayor a cero) y el ángulo de disparo $\\theta$; entonces podríamos encontrar la velocidad inicial para cada coordenada:\n",
    "\n",
    "$$\n",
    "V_{x_0} = V_0\\cos\\theta \\qquad V_{y_0} = V_0\\sin\\theta.\n",
    "$$\n",
    "\n",
    "Otra aclaración importante respecto a cómo se medirá el movimiento en el programa, es que el eje $Y$ del sistema de referencia siempre se hace corresponder con la posición del proyectil, o sea, se coloca de tal forma que la posición inicial del proyectil sea $(0, h)$, por lo que podemos tomar $x_0 = 0$. <br>\n",
    "Entonces, si tomamos $g = 9.81 \\left[\\frac{m}{s^2}\\right]$, las ecuaciones de movimiento son:\n",
    "\n",
    "\\begin{align*}\n",
    "& \\text{En }X                       &   & \\text{En }Y \\\\\n",
    "\\overline{a}_x(t) &= 0              &  \\overline{a}_y(t) &= -g \\\\\n",
    "\\overline{v}_x(t) &= v_{x_0}        &  \\overline{v}_y(t) &= -gt + v_{y_0} \\\\\n",
    "\\overline{x}(t) &= v_{x_0}t         &  \\overline{y}(t) &= -\\frac{1}{2}gt^2 + v_{y_0}t + h_0.\n",
    "\\end{align*}\n",
    "\n",
    "Ahora, para la colocación del eje $X$ pueden ocurrir dos escenarios. Puede que la altura **final** del proyectil sea *menor o igual* a la altura **inicial** (que es lo más común), pero también puede ocurrir lo contrario, que el proyectil termine en un lugar más alto del que comenzó. \n",
    "\n",
    "Lo más conveniente es hacer que el eje $X$ se corresponda con la *altura más baja*; o sea que si se da el primer caso tendríamos que la altura final, $h_f = 0$ y $h_0$ es introducida por el usuario. En caso contrario, el usuario debe especificar $h_f$ y tomaremos $h_0 = 0$.\n",
    "\n",
    "Por último, conviene calcular información importante respecto al tiro parabólico, como la **altura máxima**, **Tiempo de vuelo** y **Alcance Horizontal**. <br>\n",
    "La altura máxima se alcanza precisamente cuando $\\overline{V}_y(t) = 0$, por lo que $t_{max} = \\frac{V_{y_0}}{g}$ y \n",
    "\n",
    "$$\n",
    "h_{max} = \\overline{y}(t_{max}) = \\frac{V_{y_0}^2}{2g} + h_0. \n",
    "$$\n",
    "\n",
    "Nótese entonces que si la altura final supera a la inicial, no puede rebasa el valor $h_{max}$.\n",
    "\n",
    "Para el tiempo de vuelo, es precisamente el tiempo que tarda el proyectil en llegar a la altura final, o sea, $\\overline{y}(t_f) = h_f$, así que podemos despejar para $t_f$ en la ecuación para obtener que \n",
    "\n",
    "$$\n",
    "t_f = \\frac{v_{y_0} + \\sqrt{v_{y_0}^2 - 2g\\Delta h}}{g}.\n",
    "$$\n",
    "\n",
    "Sabemos que el radical está bien definido porque $h_f \\leq h_{max}$, es decir, $h_f \\leq \\frac{v_{y_0}^2}{2g} + h_0$ y $2g\\Delta h \\leq v_{y_0}^2$.\n",
    "\n",
    "Por último, el alcance horizontal es precisamente $\\overline{x}(t_f)$. Entonces, ya con todos los cálculos hechos, procedemos a pedirle los parámetros iniciales al usuario:"
   ]
  },
  {
   "cell_type": "code",
   "execution_count": 12,
   "metadata": {},
   "outputs": [
    {
     "name": "stdin",
     "output_type": "stream",
     "text": [
      "Velocidad Inicial (m/s):  25\n",
      "Ángulo de disparo (radianes):  0.5\n",
      "\n",
      "Si la altura final supera a la inicial, especifíquela (m). De lo contrario, presione ENTER:  \n",
      "\n",
      "Ingrese la altura inicial(m):  7\n",
      "\n",
      "El proyectil cae al suelo tras 2.930536160293565 segundos. Indique un tiempo final menor o igual a éste.\n",
      "Ingrese el intervalo [t0, tf] como t0 tf:  0 2.930536160293565\n"
     ]
    },
    {
     "name": "stdout",
     "output_type": "stream",
     "text": [
      "\n",
      "Altura máxima: 14.321892426921831 m.\n",
      "Tiempo de vuelo: 2.930536160293565 s.\n",
      "Alcance horizontal: 64.29468578157007 m.\n",
      "\n"
     ]
    },
    {
     "data": {
      "image/png": "[encoded data removed]",
      "text/plain": [
       "<Figure size 432x288 with 2 Axes>"
      ]
     },
     "metadata": {
      "needs_background": "light"
     },
     "output_type": "display_data"
    },
    {
     "data": {
      "image/png": "[encoded data removed]",
      "text/plain": [
       "<Figure size 432x288 with 1 Axes>"
      ]
     },
     "metadata": {
      "needs_background": "light"
     },
     "output_type": "display_data"
    }
   ],
   "source": [
    "import numpy as np\n",
    "import matplotlib.pyplot as plt\n",
    "from math import sqrt\n",
    "\n",
    "sin = np.sin\n",
    "cos = np.cos\n",
    "\n",
    "def floats(str):\n",
    "    return list(map(float, str.split()))\n",
    "\n",
    "v_init = float(input(\"Velocidad Inicial (m/s): \"))\n",
    "ang = float(input(\"Ángulo de disparo (radianes): \"))\n",
    "\n",
    "if v_init <= 0:\n",
    "    print(\"Ingrese una velocidad válida para tiro parabólico.\")\n",
    "    exit()\n",
    "# Parámetros iniciales.\n",
    "\n",
    "vx0 = v_init * cos(ang)\n",
    "# Velocidad inicial en X\n",
    "vy0 = v_init * sin(ang)\n",
    "# Velocidad inicial en Y\n",
    "\n",
    "h_fin = input(\"\"\"\n",
    "Si la altura final supera a la inicial, especifíquela (m). \\\n",
    "De lo contrario, presione ENTER: \"\"\")\n",
    "\n",
    "if h_fin != '':\n",
    "    h_init = 0\n",
    "    h_max = vy0 ** 2 / 19.62\n",
    "    # Altura máxima del proyectil tomando la altura inicial como 0\n",
    "    h_fin = float(h_fin)\n",
    "    if h_fin > h_max:\n",
    "        print(f\"La altura final supera la altura máxima de {h_max} m.\")\n",
    "        exit()\n",
    "else:\n",
    "    h_init = float(input(\"\\nIngrese la altura inicial(m): \"))\n",
    "    h_fin = 0\n",
    "    h_max = vy0 ** 2 / 19.62 + h_init # Altura máxima.\n",
    "\n",
    "# Básicamente, lo que se quiere hacer con este condicional es que el eje X de\n",
    "# nuestro sistema de referencia coincida con el nivel de la altura más baja.\n",
    "# La primera parte es el caso donde la altura final supera a la inicial, y la\n",
    "# segunda parte es el caso contrario.\n",
    "\n",
    "disc = vy0 ** 2 - 19.62 * (h_fin - h_init)\n",
    "t_floor = (vy0 + sqrt(disc)) / 9.81\n",
    "# Tiempo que tarda el proyectil en caer al piso.\n",
    "reach = vx0 * t_floor\n",
    "# Alcance horizontal del proyectil.\n",
    "\n",
    "interval = floats(input(f\"\"\"\n",
    "El proyectil cae al suelo tras {t_floor} segundos. \\\n",
    "Indique un tiempo final menor o igual a éste.\n",
    "Ingrese el intervalo [t0, tf] como t0 tf: \"\"\"))\n",
    "# No tendría sentido graficar más allá de este punto.\n",
    "\n",
    "t0 = interval[0]\n",
    "tf = interval[1]\n",
    "\n",
    "if t0 < 0 or tf < 0 or tf > t_floor:\n",
    "    print(\"Ingrese tiempos válidos.\")\n",
    "    exit()\n",
    "# Intervalo de tiempo a graficar\n",
    "\n",
    "t = np.linspace(t0, tf)\n",
    "lenght = range(len(t))\n",
    "\n",
    "pos_x = vx0 * t\n",
    "vel_x = np.array([vx0 for i in lenght])\n",
    "acc_x = np.array([0 for i in lenght])\n",
    "# Movimiento en la coordenada X. (Se asume que no hay aceleración horizontal).\n",
    "\n",
    "pos_y = -9.81 * t ** 2 / 2 + vy0 * t + h_init\n",
    "vel_y = -9.81 * t + h_init\n",
    "acc_y = np.array([-9.81 for i in lenght])\n",
    "# Movimiento en la coordenada Y. (Uniformemente acelerado por la gravedad).\n",
    "\n",
    "with open('movimiento_x.csv', 'w') as f:\n",
    "    f.write('Tiempo,Posición,Velocidad,Aceleración\\n')\n",
    "    f.write('\\n'.join('{},{},{},{}'.format(t[i], pos_x[i], vel_x[i], acc_x[i])\n",
    "            for i in lenght))\n",
    "# Datos del movimiento en el eje X\n",
    "\n",
    "with open('movimiento_y.csv', 'w') as f:\n",
    "    f.write('Tiempo,Posición,Velocidad,Aceleración\\n')\n",
    "    f.write('\\n'.join('{},{},{},{}'.format(t[i], pos_y[i], vel_y[i], acc_y[i])\n",
    "            for i in lenght))\n",
    "# Datos del movimiento en el eje Y\n",
    "\n",
    "with open('trayectoria.csv', 'w') as f:\n",
    "    f.write('Posición_X,Posición_Y\\n')\n",
    "    f.write('\\n'.join('{},{}'.format(pos_x[i], pos_y[i]) for i in lenght))\n",
    "# Datos de la posición en X vs posición en Y.\n",
    "\n",
    "print(f\"\"\"\n",
    "Altura máxima: {h_max} m.\n",
    "Tiempo de vuelo: {t_floor} s.\n",
    "Alcance horizontal: {reach} m.\n",
    "\"\"\")\n",
    "# Información relevante del tiro parabólico\n",
    "\n",
    "fig1, (ax1, ax2) = plt.subplots(nrows=1, ncols=2)\n",
    "# Figura para el movimiento de cada coordenada respecto al tiempo. Ambas\n",
    "# graficas están en una sola figura.\n",
    "fig2, ax3 = plt.subplots()\n",
    "# Figura para la trayectoria del proyectil.\n",
    "\n",
    "ax1.plot(t, pos_x, color='#222288', label='Posición (m)')\n",
    "ax1.plot(t, vel_x, color='#ffd700', linestyle='-.', label='Velocidad (m/s)')\n",
    "ax1.plot(t, acc_x, color='#329932', linestyle='--', label='Aceleración (m/s²)')\n",
    "# Datos graficados del movimiento en X\n",
    "\n",
    "ax1.set_xlabel(\"Tiempo\")\n",
    "ax1.set_ylabel(\"Unidades respectivas\")\n",
    "ax1.set_title(\"Movimiento en la Coordenada X\")\n",
    "\n",
    "ax1.legend()\n",
    "\n",
    "ax2.plot(t, pos_y, color='#222288', label='Posición (m)')\n",
    "ax2.plot(t, vel_y, color='#ffd700', linestyle='-.', label='Velocidad (m/s)')\n",
    "ax2.plot(t, acc_y, color='#329932', linestyle='--', label='Aceleración (m/s²)')\n",
    "# Datos graficados del movimiento en Y\n",
    "\n",
    "ax2.set_xlabel(\"Tiempo\")\n",
    "ax2.set_title(\"Movimiento en la Coordenada Y\")\n",
    "\n",
    "ax2.legend()\n",
    "\n",
    "ax3.plot(pos_x, pos_y, color='#222288', label='Posición (m)')\n",
    "# Grafica de la trayectoria.\n",
    "\n",
    "ax3.set_xlabel(\"Desplazamiento horizontal (m)\")\n",
    "ax3.set_ylabel(\"Altura (m)\")\n",
    "ax3.set_title(\"Trayectoria\")\n",
    "\n",
    "ax3.legend()\n",
    "\n",
    "plt.tight_layout()\n",
    "\n",
    "plt.show()"
   ]
  }
 ],
 "metadata": {
  "kernelspec": {
   "display_name": "Python 3",
   "language": "python",
   "name": "python3"
  },
  "language_info": {
   "codemirror_mode": {
    "name": "ipython",
    "version": 3
   },
   "file_extension": ".py",
   "mimetype": "text/x-python",
   "name": "python",
   "nbconvert_exporter": "python",
   "pygments_lexer": "ipython3",
   "version": "3.8.5"
  }
 },
 "nbformat": 4,
 "nbformat_minor": 4
}
